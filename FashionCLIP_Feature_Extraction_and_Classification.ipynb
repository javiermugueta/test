{
  "cells": [
    {
      "cell_type": "markdown",
      "metadata": {
        "id": "view-in-github",
        "colab_type": "text"
      },
      "source": [
        "<a href=\"https://colab.research.google.com/github/javiermugueta/test/blob/main/FashionCLIP_Feature_Extraction_and_Classification.ipynb\" target=\"_parent\"><img src=\"https://colab.research.google.com/assets/colab-badge.svg\" alt=\"Open In Colab\"/></a>"
      ]
    },
    {
      "cell_type": "markdown",
      "metadata": {
        "id": "xfz7BSY7SP5P"
      },
      "source": [
        "# A Hands-On Tutorial on FashionCLIP\n",
        "\n",
        "Welcome to our FashionCLIP tutorial! Here we will show how you can embed your own images with FashionCLIP and play with the representations.\n",
        "\n",
        "[![Youtube Video](https://img.shields.io/badge/youtube-video-red)](https://www.youtube.com/watch?v=uqRSc-KSA1Y)\n",
        "[![HuggingFace Model](https://img.shields.io/badge/HF%20Model-Weights-yellow)](https://huggingface.co/spaces/clip-italian/clip-italian-demo)\n",
        "[![Open In Colab](https://colab.research.google.com/assets/colab-badge.svg)](https://colab.research.google.com/drive/1Z1hAxBnWjF76bEi9KQ6CMBBEmI_FVDrW?usp=sharing)\n",
        "[![Medium Blog Post](https://raw.githubusercontent.com/aleen42/badges/master/src/medium.svg)](https://towardsdatascience.com/teaching-clip-some-fashion-3005ac3fdcc3)\n",
        "\n",
        "\n",
        "**VERY IMPORTANT** \\\n",
        "If your collection of images is large, make sure you are using a **GPU** (if you are on Colab go to Runtime -> Change Runtime Type). Otherwise it's going to take long to compute embeddings!\n",
        "\n",
        "\n",
        "### Use Cases\n",
        "\n",
        "We will go through three different possible usages of FashionCLIP:\n",
        "\n",
        "*   **Image Retrieval.** Given a query, we will find the image that best describe that query.\n",
        "\n",
        "*   **Zero Shot Classification.** Given an image, we will try to classify some images using some labels.\n",
        "\n",
        "*   **Feature Extraction for Supervised Learning.** We will extract image features using FashionCLIP and use them to do image classification."
      ]
    },
    {
      "cell_type": "markdown",
      "metadata": {
        "id": "VZ3s403V5LKs"
      },
      "source": [
        "## Getting Started\n",
        "\n",
        "To start this tutorial, let's first download some images!"
      ]
    },
    {
      "cell_type": "code",
      "execution_count": 1,
      "metadata": {
        "id": "mLyWzNhJwoS2"
      },
      "outputs": [],
      "source": [
        "%%capture\n",
        "!pip install gdown\n",
        "!gdown \"1igAuIEW_4h_51BG1o05WS0Q0-Cp17_-t&confirm=t\"\n",
        "!unzip data"
      ]
    },
    {
      "cell_type": "markdown",
      "metadata": {
        "id": "kFaN_ybWkI1F"
      },
      "source": [
        "The dataset we used is a sample that comes from [Kaggle](https://www.kaggle.com/competitions/h-and-m-personalized-fashion-recommendations).  We report here data access and use found on Kaggle.\n",
        "\n",
        "**A. Data Access and Use.**\n",
        "\n",
        "Competition Use and Non-Commercial & Academic Research: You may access and use the Competition Data for non-commercial purposes only, including for participating in the Competition and on Kaggle.com forums, and for academic research and education. The Competition Sponsor reserves the right to disqualify any participant who uses the Competition Data other than as permitted by the Competition Website and these Rules."
      ]
    },
    {
      "cell_type": "markdown",
      "metadata": {
        "id": "4dzpM2oASwM6"
      },
      "source": [
        "### The FashionCLIP Model\n",
        "\n",
        "We wrote a simple wrapper that allows you to play with the data a bit and do most of the things you might want to do with few lines of code!\n",
        "\n",
        "It should take 2/3 minutes to install."
      ]
    },
    {
      "cell_type": "code",
      "execution_count": 2,
      "metadata": {
        "id": "tyBLvPLgSx5h"
      },
      "outputs": [],
      "source": [
        "%%capture\n",
        "!pip install -U fashion-clip"
      ]
    },
    {
      "cell_type": "code",
      "execution_count": 3,
      "metadata": {
        "id": "WijCpqbIyH7T"
      },
      "outputs": [],
      "source": [
        "import sys\n",
        "#sys.path.append(\"fashion-clip/\")\n",
        "from fashion_clip.fashion_clip import FashionCLIP\n",
        "import pandas as pd\n",
        "import numpy as np\n",
        "from collections import Counter\n",
        "from PIL import Image\n",
        "import numpy as np\n",
        "from sklearn.metrics import classification_report\n",
        "from sklearn.model_selection import train_test_split\n",
        "from sklearn.metrics import *\n",
        "from sklearn.linear_model import LogisticRegression"
      ]
    },
    {
      "cell_type": "markdown",
      "metadata": {
        "id": "H1W2J4IAzlEz"
      },
      "source": [
        "Let's now FashionCLIP first. It's going to take a couple of minutes to download the model from the HuggingFace Hub."
      ]
    },
    {
      "cell_type": "code",
      "execution_count": 4,
      "metadata": {
        "id": "-xEzYFUbydJY"
      },
      "outputs": [],
      "source": [
        "%%capture\n",
        "fclip = FashionCLIP('fashion-clip')"
      ]
    },
    {
      "cell_type": "markdown",
      "metadata": {
        "id": "ViPu0y8C0UfS"
      },
      "source": [
        "FashionCLIP, as CLIP, creates a shared vector space for images and text. This allows us to tackle many tasks, such as retrieval (find the image that is most similar to a given query) or zero shot classification (find which lables fit an image best).\n",
        "\n",
        "There are basically two main components, and image encoder (to generate a vector starting from an image) and a text encoder (to generate a vector startinf from a piece of text). The general concept is summarized in the following GIF (in 2D)."
      ]
    },
    {
      "cell_type": "markdown",
      "metadata": {
        "id": "8oc2jvxPpFWQ"
      },
      "source": [
        "\n",
        "\n",
        "<img src=\"https://miro.medium.com/v2/resize:fit:1400/0*FLNMtW6jK51fm7Og\"  width=\"400\">\n",
        "\n"
      ]
    },
    {
      "cell_type": "markdown",
      "metadata": {
        "id": "AsPVQgNphwFX"
      },
      "source": [
        "First thing first, let's load the data!\n",
        "Also, let's drop some elements to simplify the analysis."
      ]
    },
    {
      "cell_type": "code",
      "execution_count": 5,
      "metadata": {
        "colab": {
          "base_uri": "https://localhost:8080/",
          "height": 344
        },
        "id": "9emW_P2fhxSW",
        "outputId": "fc6337b5-011e-4629-ee67-dde4454a15ea"
      },
      "outputs": [
        {
          "output_type": "execute_result",
          "data": {
            "text/plain": [
              "   article_id  product_code                   prod_name  product_type_no  \\\n",
              "0   108775044        108775                   Strap top              253   \n",
              "1   176754003        176754  2 Row Braided Headband (1)               74   \n",
              "3   189634031        189634           Long Leg Leggings              273   \n",
              "\n",
              "  product_type_name  product_group_name  graphical_appearance_no  \\\n",
              "0          Vest top  Garment Upper body                  1010016   \n",
              "1   Hair/alice band         Accessories                  1010016   \n",
              "3   Leggings/Tights  Garment Lower body                  1010016   \n",
              "\n",
              "  graphical_appearance_name  colour_group_code colour_group_name  ...  \\\n",
              "0                     Solid                 10             White  ...   \n",
              "1                     Solid                 17   Yellowish Brown  ...   \n",
              "3                     Solid                 93        Dark Green  ...   \n",
              "\n",
              "    department_name index_code          index_name index_group_no  \\\n",
              "0      Jersey Basic          A          Ladieswear              1   \n",
              "1  Hair Accessories          C  Ladies Accessories              1   \n",
              "3           Basic 1          D             Divided              2   \n",
              "\n",
              "   index_group_name section_no              section_name garment_group_no  \\\n",
              "0        Ladieswear         16    Womens Everyday Basics             1002   \n",
              "1        Ladieswear         66  Womens Small accessories             1019   \n",
              "3           Divided         51            Divided Basics             1002   \n",
              "\n",
              "   garment_group_name                                        detail_desc  \n",
              "0        Jersey Basic            Jersey top with narrow shoulder straps.  \n",
              "1         Accessories  Two-strand hairband with braids in imitation s...  \n",
              "3        Jersey Basic  Leggings in stretch jersey with an elasticated...  \n",
              "\n",
              "[3 rows x 25 columns]"
            ],
            "text/html": [
              "\n",
              "  <div id=\"df-992fb28f-d992-4dea-95f7-3b3e64a5e727\" class=\"colab-df-container\">\n",
              "    <div>\n",
              "<style scoped>\n",
              "    .dataframe tbody tr th:only-of-type {\n",
              "        vertical-align: middle;\n",
              "    }\n",
              "\n",
              "    .dataframe tbody tr th {\n",
              "        vertical-align: top;\n",
              "    }\n",
              "\n",
              "    .dataframe thead th {\n",
              "        text-align: right;\n",
              "    }\n",
              "</style>\n",
              "<table border=\"1\" class=\"dataframe\">\n",
              "  <thead>\n",
              "    <tr style=\"text-align: right;\">\n",
              "      <th></th>\n",
              "      <th>article_id</th>\n",
              "      <th>product_code</th>\n",
              "      <th>prod_name</th>\n",
              "      <th>product_type_no</th>\n",
              "      <th>product_type_name</th>\n",
              "      <th>product_group_name</th>\n",
              "      <th>graphical_appearance_no</th>\n",
              "      <th>graphical_appearance_name</th>\n",
              "      <th>colour_group_code</th>\n",
              "      <th>colour_group_name</th>\n",
              "      <th>...</th>\n",
              "      <th>department_name</th>\n",
              "      <th>index_code</th>\n",
              "      <th>index_name</th>\n",
              "      <th>index_group_no</th>\n",
              "      <th>index_group_name</th>\n",
              "      <th>section_no</th>\n",
              "      <th>section_name</th>\n",
              "      <th>garment_group_no</th>\n",
              "      <th>garment_group_name</th>\n",
              "      <th>detail_desc</th>\n",
              "    </tr>\n",
              "  </thead>\n",
              "  <tbody>\n",
              "    <tr>\n",
              "      <th>0</th>\n",
              "      <td>108775044</td>\n",
              "      <td>108775</td>\n",
              "      <td>Strap top</td>\n",
              "      <td>253</td>\n",
              "      <td>Vest top</td>\n",
              "      <td>Garment Upper body</td>\n",
              "      <td>1010016</td>\n",
              "      <td>Solid</td>\n",
              "      <td>10</td>\n",
              "      <td>White</td>\n",
              "      <td>...</td>\n",
              "      <td>Jersey Basic</td>\n",
              "      <td>A</td>\n",
              "      <td>Ladieswear</td>\n",
              "      <td>1</td>\n",
              "      <td>Ladieswear</td>\n",
              "      <td>16</td>\n",
              "      <td>Womens Everyday Basics</td>\n",
              "      <td>1002</td>\n",
              "      <td>Jersey Basic</td>\n",
              "      <td>Jersey top with narrow shoulder straps.</td>\n",
              "    </tr>\n",
              "    <tr>\n",
              "      <th>1</th>\n",
              "      <td>176754003</td>\n",
              "      <td>176754</td>\n",
              "      <td>2 Row Braided Headband (1)</td>\n",
              "      <td>74</td>\n",
              "      <td>Hair/alice band</td>\n",
              "      <td>Accessories</td>\n",
              "      <td>1010016</td>\n",
              "      <td>Solid</td>\n",
              "      <td>17</td>\n",
              "      <td>Yellowish Brown</td>\n",
              "      <td>...</td>\n",
              "      <td>Hair Accessories</td>\n",
              "      <td>C</td>\n",
              "      <td>Ladies Accessories</td>\n",
              "      <td>1</td>\n",
              "      <td>Ladieswear</td>\n",
              "      <td>66</td>\n",
              "      <td>Womens Small accessories</td>\n",
              "      <td>1019</td>\n",
              "      <td>Accessories</td>\n",
              "      <td>Two-strand hairband with braids in imitation s...</td>\n",
              "    </tr>\n",
              "    <tr>\n",
              "      <th>3</th>\n",
              "      <td>189634031</td>\n",
              "      <td>189634</td>\n",
              "      <td>Long Leg Leggings</td>\n",
              "      <td>273</td>\n",
              "      <td>Leggings/Tights</td>\n",
              "      <td>Garment Lower body</td>\n",
              "      <td>1010016</td>\n",
              "      <td>Solid</td>\n",
              "      <td>93</td>\n",
              "      <td>Dark Green</td>\n",
              "      <td>...</td>\n",
              "      <td>Basic 1</td>\n",
              "      <td>D</td>\n",
              "      <td>Divided</td>\n",
              "      <td>2</td>\n",
              "      <td>Divided</td>\n",
              "      <td>51</td>\n",
              "      <td>Divided Basics</td>\n",
              "      <td>1002</td>\n",
              "      <td>Jersey Basic</td>\n",
              "      <td>Leggings in stretch jersey with an elasticated...</td>\n",
              "    </tr>\n",
              "  </tbody>\n",
              "</table>\n",
              "<p>3 rows × 25 columns</p>\n",
              "</div>\n",
              "    <div class=\"colab-df-buttons\">\n",
              "\n",
              "  <div class=\"colab-df-container\">\n",
              "    <button class=\"colab-df-convert\" onclick=\"convertToInteractive('df-992fb28f-d992-4dea-95f7-3b3e64a5e727')\"\n",
              "            title=\"Convert this dataframe to an interactive table.\"\n",
              "            style=\"display:none;\">\n",
              "\n",
              "  <svg xmlns=\"http://www.w3.org/2000/svg\" height=\"24px\" viewBox=\"0 -960 960 960\">\n",
              "    <path d=\"M120-120v-720h720v720H120Zm60-500h600v-160H180v160Zm220 220h160v-160H400v160Zm0 220h160v-160H400v160ZM180-400h160v-160H180v160Zm440 0h160v-160H620v160ZM180-180h160v-160H180v160Zm440 0h160v-160H620v160Z\"/>\n",
              "  </svg>\n",
              "    </button>\n",
              "\n",
              "  <style>\n",
              "    .colab-df-container {\n",
              "      display:flex;\n",
              "      gap: 12px;\n",
              "    }\n",
              "\n",
              "    .colab-df-convert {\n",
              "      background-color: #E8F0FE;\n",
              "      border: none;\n",
              "      border-radius: 50%;\n",
              "      cursor: pointer;\n",
              "      display: none;\n",
              "      fill: #1967D2;\n",
              "      height: 32px;\n",
              "      padding: 0 0 0 0;\n",
              "      width: 32px;\n",
              "    }\n",
              "\n",
              "    .colab-df-convert:hover {\n",
              "      background-color: #E2EBFA;\n",
              "      box-shadow: 0px 1px 2px rgba(60, 64, 67, 0.3), 0px 1px 3px 1px rgba(60, 64, 67, 0.15);\n",
              "      fill: #174EA6;\n",
              "    }\n",
              "\n",
              "    .colab-df-buttons div {\n",
              "      margin-bottom: 4px;\n",
              "    }\n",
              "\n",
              "    [theme=dark] .colab-df-convert {\n",
              "      background-color: #3B4455;\n",
              "      fill: #D2E3FC;\n",
              "    }\n",
              "\n",
              "    [theme=dark] .colab-df-convert:hover {\n",
              "      background-color: #434B5C;\n",
              "      box-shadow: 0px 1px 3px 1px rgba(0, 0, 0, 0.15);\n",
              "      filter: drop-shadow(0px 1px 2px rgba(0, 0, 0, 0.3));\n",
              "      fill: #FFFFFF;\n",
              "    }\n",
              "  </style>\n",
              "\n",
              "    <script>\n",
              "      const buttonEl =\n",
              "        document.querySelector('#df-992fb28f-d992-4dea-95f7-3b3e64a5e727 button.colab-df-convert');\n",
              "      buttonEl.style.display =\n",
              "        google.colab.kernel.accessAllowed ? 'block' : 'none';\n",
              "\n",
              "      async function convertToInteractive(key) {\n",
              "        const element = document.querySelector('#df-992fb28f-d992-4dea-95f7-3b3e64a5e727');\n",
              "        const dataTable =\n",
              "          await google.colab.kernel.invokeFunction('convertToInteractive',\n",
              "                                                    [key], {});\n",
              "        if (!dataTable) return;\n",
              "\n",
              "        const docLinkHtml = 'Like what you see? Visit the ' +\n",
              "          '<a target=\"_blank\" href=https://colab.research.google.com/notebooks/data_table.ipynb>data table notebook</a>'\n",
              "          + ' to learn more about interactive tables.';\n",
              "        element.innerHTML = '';\n",
              "        dataTable['output_type'] = 'display_data';\n",
              "        await google.colab.output.renderOutput(dataTable, element);\n",
              "        const docLink = document.createElement('div');\n",
              "        docLink.innerHTML = docLinkHtml;\n",
              "        element.appendChild(docLink);\n",
              "      }\n",
              "    </script>\n",
              "  </div>\n",
              "\n",
              "\n",
              "<div id=\"df-35d74bb4-3e21-4706-a7b4-b4fb7e310281\">\n",
              "  <button class=\"colab-df-quickchart\" onclick=\"quickchart('df-35d74bb4-3e21-4706-a7b4-b4fb7e310281')\"\n",
              "            title=\"Suggest charts\"\n",
              "            style=\"display:none;\">\n",
              "\n",
              "<svg xmlns=\"http://www.w3.org/2000/svg\" height=\"24px\"viewBox=\"0 0 24 24\"\n",
              "     width=\"24px\">\n",
              "    <g>\n",
              "        <path d=\"M19 3H5c-1.1 0-2 .9-2 2v14c0 1.1.9 2 2 2h14c1.1 0 2-.9 2-2V5c0-1.1-.9-2-2-2zM9 17H7v-7h2v7zm4 0h-2V7h2v10zm4 0h-2v-4h2v4z\"/>\n",
              "    </g>\n",
              "</svg>\n",
              "  </button>\n",
              "\n",
              "<style>\n",
              "  .colab-df-quickchart {\n",
              "      --bg-color: #E8F0FE;\n",
              "      --fill-color: #1967D2;\n",
              "      --hover-bg-color: #E2EBFA;\n",
              "      --hover-fill-color: #174EA6;\n",
              "      --disabled-fill-color: #AAA;\n",
              "      --disabled-bg-color: #DDD;\n",
              "  }\n",
              "\n",
              "  [theme=dark] .colab-df-quickchart {\n",
              "      --bg-color: #3B4455;\n",
              "      --fill-color: #D2E3FC;\n",
              "      --hover-bg-color: #434B5C;\n",
              "      --hover-fill-color: #FFFFFF;\n",
              "      --disabled-bg-color: #3B4455;\n",
              "      --disabled-fill-color: #666;\n",
              "  }\n",
              "\n",
              "  .colab-df-quickchart {\n",
              "    background-color: var(--bg-color);\n",
              "    border: none;\n",
              "    border-radius: 50%;\n",
              "    cursor: pointer;\n",
              "    display: none;\n",
              "    fill: var(--fill-color);\n",
              "    height: 32px;\n",
              "    padding: 0;\n",
              "    width: 32px;\n",
              "  }\n",
              "\n",
              "  .colab-df-quickchart:hover {\n",
              "    background-color: var(--hover-bg-color);\n",
              "    box-shadow: 0 1px 2px rgba(60, 64, 67, 0.3), 0 1px 3px 1px rgba(60, 64, 67, 0.15);\n",
              "    fill: var(--button-hover-fill-color);\n",
              "  }\n",
              "\n",
              "  .colab-df-quickchart-complete:disabled,\n",
              "  .colab-df-quickchart-complete:disabled:hover {\n",
              "    background-color: var(--disabled-bg-color);\n",
              "    fill: var(--disabled-fill-color);\n",
              "    box-shadow: none;\n",
              "  }\n",
              "\n",
              "  .colab-df-spinner {\n",
              "    border: 2px solid var(--fill-color);\n",
              "    border-color: transparent;\n",
              "    border-bottom-color: var(--fill-color);\n",
              "    animation:\n",
              "      spin 1s steps(1) infinite;\n",
              "  }\n",
              "\n",
              "  @keyframes spin {\n",
              "    0% {\n",
              "      border-color: transparent;\n",
              "      border-bottom-color: var(--fill-color);\n",
              "      border-left-color: var(--fill-color);\n",
              "    }\n",
              "    20% {\n",
              "      border-color: transparent;\n",
              "      border-left-color: var(--fill-color);\n",
              "      border-top-color: var(--fill-color);\n",
              "    }\n",
              "    30% {\n",
              "      border-color: transparent;\n",
              "      border-left-color: var(--fill-color);\n",
              "      border-top-color: var(--fill-color);\n",
              "      border-right-color: var(--fill-color);\n",
              "    }\n",
              "    40% {\n",
              "      border-color: transparent;\n",
              "      border-right-color: var(--fill-color);\n",
              "      border-top-color: var(--fill-color);\n",
              "    }\n",
              "    60% {\n",
              "      border-color: transparent;\n",
              "      border-right-color: var(--fill-color);\n",
              "    }\n",
              "    80% {\n",
              "      border-color: transparent;\n",
              "      border-right-color: var(--fill-color);\n",
              "      border-bottom-color: var(--fill-color);\n",
              "    }\n",
              "    90% {\n",
              "      border-color: transparent;\n",
              "      border-bottom-color: var(--fill-color);\n",
              "    }\n",
              "  }\n",
              "</style>\n",
              "\n",
              "  <script>\n",
              "    async function quickchart(key) {\n",
              "      const quickchartButtonEl =\n",
              "        document.querySelector('#' + key + ' button');\n",
              "      quickchartButtonEl.disabled = true;  // To prevent multiple clicks.\n",
              "      quickchartButtonEl.classList.add('colab-df-spinner');\n",
              "      try {\n",
              "        const charts = await google.colab.kernel.invokeFunction(\n",
              "            'suggestCharts', [key], {});\n",
              "      } catch (error) {\n",
              "        console.error('Error during call to suggestCharts:', error);\n",
              "      }\n",
              "      quickchartButtonEl.classList.remove('colab-df-spinner');\n",
              "      quickchartButtonEl.classList.add('colab-df-quickchart-complete');\n",
              "    }\n",
              "    (() => {\n",
              "      let quickchartButtonEl =\n",
              "        document.querySelector('#df-35d74bb4-3e21-4706-a7b4-b4fb7e310281 button');\n",
              "      quickchartButtonEl.style.display =\n",
              "        google.colab.kernel.accessAllowed ? 'block' : 'none';\n",
              "    })();\n",
              "  </script>\n",
              "</div>\n",
              "    </div>\n",
              "  </div>\n"
            ],
            "application/vnd.google.colaboratory.intrinsic+json": {
              "type": "dataframe",
              "variable_name": "subset"
            }
          },
          "metadata": {},
          "execution_count": 5
        }
      ],
      "source": [
        "articles = pd.read_csv(\"data_for_fashion_clip/articles.csv\")\n",
        "\n",
        "# drop items that have the same description\n",
        "subset = articles.drop_duplicates(\"detail_desc\").copy()\n",
        "\n",
        "# remove items of unkown category\n",
        "subset = subset[~subset[\"product_group_name\"].isin([\"Unknown\"])]\n",
        "\n",
        "# FashionCLIP has a limit of 77 tokens, let's play it safe and drop things with more than 40 tokens\n",
        "subset = subset[subset[\"detail_desc\"].apply(lambda x : 4 < len(str(x).split()) < 40)]\n",
        "\n",
        "# We also drop products types that do not occur very frequently in this subset of data\n",
        "most_frequent_product_types = [k for k, v in dict(Counter(subset[\"product_type_name\"].tolist())).items() if v > 10]\n",
        "subset = subset[subset[\"product_type_name\"].isin(most_frequent_product_types)]\n",
        "\n",
        "# lots of data here, but we will just use only descriptions and a couple of other columns\n",
        "subset.head(3)"
      ]
    },
    {
      "cell_type": "code",
      "execution_count": 6,
      "metadata": {
        "colab": {
          "base_uri": "https://localhost:8080/",
          "height": 35
        },
        "id": "kTiCnV7Nko5L",
        "outputId": "f9e7ff5a-57cd-45ee-c79c-08b71ae87832"
      },
      "outputs": [
        {
          "output_type": "execute_result",
          "data": {
            "text/plain": [
              "'There are 3104 elements in the dataset'"
            ],
            "application/vnd.google.colaboratory.intrinsic+json": {
              "type": "string"
            }
          },
          "metadata": {},
          "execution_count": 6
        }
      ],
      "source": [
        "subset.to_csv(\"subset_data.csv\", index=False)\n",
        "f\"There are {len(subset)} elements in the dataset\""
      ]
    },
    {
      "cell_type": "markdown",
      "metadata": {
        "id": "TcLNKhgD75pm"
      },
      "source": [
        "## Image Retrieval\n",
        "\n",
        "How do we do retrieval?\n",
        "\n",
        "We encode a search query (e.g., \"A red dress\") with FashionCLIP text encoder and retrieve the closest image vectors through a simple dot product. The greater the value of the dot product, the more similar the text and the image are.\n",
        "\n",
        "<img src=\"https://miro.medium.com/v2/resize:fit:1400/1*cnKHgLAumVyuHuK9pkqr7A.gif\"  width=\"800\">\n"
      ]
    },
    {
      "cell_type": "markdown",
      "metadata": {
        "id": "rV3e8bLpBpAS"
      },
      "source": [
        "Ok now let's get all the images and all the captions, generate embeddings and then normalize the embeddings to unit norm."
      ]
    },
    {
      "cell_type": "code",
      "execution_count": 23,
      "metadata": {
        "colab": {
          "base_uri": "https://localhost:8080/",
          "height": 83,
          "referenced_widgets": [
            "446bc0145b9d4d2799053a7cd967e748",
            "08408c4cbd5e4b948f79bfaed2f6a920",
            "9f19481018584e68a400670b1ba4d8e3",
            "490cef66cb7e4044a1d1565384f15635",
            "ec8a2725002144b995e534fe9f5f2adc",
            "c6eea4955aa7444f860fd06f167ecf3c",
            "10a86cc600dd43578ab1a653217f8067",
            "bbbc5372abb2492f80e0025176e0f6f3",
            "8b0b4bec83534f829c3f5454e8c91e27",
            "1ef65fe4c27449b08bc9babdd43324a9",
            "b4c5b61379844df1acd4e908b8a94f55"
          ]
        },
        "id": "cla9wews4eZg",
        "outputId": "2df9bc6a-3415-48b1-ad3c-86e94108fd9d"
      },
      "outputs": [
        {
          "output_type": "stream",
          "name": "stderr",
          "text": [
            "100%|██████████| 97/97 [02:59<00:00,  1.85s/it]\n"
          ]
        },
        {
          "output_type": "display_data",
          "data": {
            "text/plain": [
              "Map:   0%|          | 0/3104 [00:00<?, ? examples/s]"
            ],
            "application/vnd.jupyter.widget-view+json": {
              "version_major": 2,
              "version_minor": 0,
              "model_id": "446bc0145b9d4d2799053a7cd967e748"
            }
          },
          "metadata": {}
        },
        {
          "output_type": "stream",
          "name": "stderr",
          "text": [
            "100%|██████████| 97/97 [00:06<00:00, 15.04it/s]\n"
          ]
        }
      ],
      "source": [
        "images = [\"data_for_fashion_clip/\" + str(k) + \".jpg\" for k in subset[\"article_id\"].tolist()]\n",
        "texts = subset[\"detail_desc\"].tolist()\n",
        "\n",
        "# we create image embeddings and text embeddings\n",
        "image_embeddings = fclip.encode_images(images, batch_size=32)\n",
        "text_embeddings = fclip.encode_text(texts, batch_size=32)\n",
        "\n",
        "# we normalize the embeddings to unit norm (so that we can use dot product instead of cosine similarity to do comparisons)\n",
        "image_embeddings = image_embeddings/np.linalg.norm(image_embeddings, ord=2, axis=-1, keepdims=True)\n",
        "text_embeddings = text_embeddings/np.linalg.norm(text_embeddings, ord=2, axis=-1, keepdims=True)"
      ]
    },
    {
      "cell_type": "code",
      "source": [
        "#image_embeddings[0]\n",
        "text_embeddings[0]"
      ],
      "metadata": {
        "colab": {
          "base_uri": "https://localhost:8080/"
        },
        "id": "-6rSDNyo0mrK",
        "outputId": "c9e3ed0c-61ce-41a9-d023-46d694bda371"
      },
      "execution_count": 27,
      "outputs": [
        {
          "output_type": "execute_result",
          "data": {
            "text/plain": [
              "array([ 3.22842896e-02,  2.01068949e-02,  3.78858484e-02,  1.31877940e-02,\n",
              "        1.67853162e-02,  1.09590637e-02, -1.62564423e-02,  1.46420924e-02,\n",
              "        1.12880545e-03, -2.71987095e-02, -4.96191122e-02, -4.91657853e-03,\n",
              "        1.73076112e-02, -4.40935045e-02,  1.20740402e-02, -1.05933659e-03,\n",
              "       -6.16079308e-02, -2.42539328e-02,  1.35522056e-02, -1.41005935e-02,\n",
              "       -3.22696902e-02, -4.04664353e-02, -5.20932302e-02,  2.41141543e-02,\n",
              "        1.93965361e-02, -1.86537616e-02,  1.56471580e-02,  1.54868653e-02,\n",
              "       -2.71058585e-02, -6.95017353e-03, -9.87825096e-02, -7.26300254e-02,\n",
              "       -2.42170971e-02, -1.07757645e-02,  9.61925089e-03,  7.68649671e-03,\n",
              "        1.26136271e-02,  1.98338013e-02, -1.05803180e-02,  3.58579531e-02,\n",
              "       -3.70823443e-02, -4.30858769e-02, -6.50399923e-02,  4.94037308e-02,\n",
              "       -2.56746300e-02,  7.60206766e-03, -4.05978672e-02, -6.51278645e-02,\n",
              "       -3.90222333e-02, -2.38666013e-02, -2.99545540e-03,  4.57897456e-03,\n",
              "        2.12504342e-02,  7.16016442e-02,  1.24782417e-02, -1.58930458e-02,\n",
              "       -1.31640034e-02, -2.74951832e-04, -1.48846721e-03,  7.97509179e-02,\n",
              "       -5.52908741e-02, -2.28992780e-04,  3.99422012e-02,  3.08951102e-02,\n",
              "        2.13220268e-02,  9.45767015e-03, -8.62482193e-06, -4.43259925e-02,\n",
              "       -3.50420475e-02,  1.33701162e-02, -4.03976232e-01,  2.91881133e-02,\n",
              "        2.10117009e-02, -3.11261062e-02,  1.89255569e-02, -3.22144963e-02,\n",
              "       -1.15627021e-01,  1.56999398e-02,  2.33992096e-02, -4.44990722e-03,\n",
              "       -3.03190202e-02, -9.38599482e-02, -4.67750952e-02, -2.07606535e-02,\n",
              "        2.48113591e-02,  1.22520821e-02, -2.99328100e-02, -5.54809757e-02,\n",
              "        5.76428398e-02,  9.43297055e-03, -7.48938397e-02,  5.41887730e-02,\n",
              "        1.53775392e-02, -4.53636125e-02,  2.40805708e-02,  1.89253520e-02,\n",
              "       -7.88652524e-03,  1.58618658e-03, -4.25031520e-02,  2.39933059e-02,\n",
              "       -1.11672301e-02,  1.52160311e-02, -3.39160897e-02, -1.79965645e-02,\n",
              "       -1.12957451e-02,  2.36757714e-02, -7.94618391e-03,  5.94237261e-02,\n",
              "        8.13445225e-02, -1.59207843e-02, -8.94839596e-03,  1.46716805e-02,\n",
              "        2.04818398e-02, -4.92017865e-02,  3.19120139e-02, -1.25505581e-01,\n",
              "       -1.11970899e-03,  4.85907234e-02, -7.85585307e-03,  3.48802693e-02,\n",
              "       -1.28059974e-02,  2.37534884e-02, -2.43842937e-02, -2.33183838e-02,\n",
              "        6.13654777e-02, -2.75188796e-02, -3.70298363e-02,  2.40853503e-02,\n",
              "        5.08487877e-03,  3.00729182e-02,  1.52514558e-02,  7.92988390e-03,\n",
              "       -3.97724099e-02, -1.89074371e-02, -1.05109755e-02, -2.32610703e-02,\n",
              "       -4.72664312e-02, -9.00698546e-03, -4.35397634e-03,  3.91526893e-02,\n",
              "       -2.35468671e-02,  1.85242407e-02, -4.85596955e-02, -4.29173326e-03,\n",
              "       -3.39563414e-02,  6.21245317e-02,  2.57905014e-02,  1.90314837e-02,\n",
              "        7.00262468e-03,  1.95601787e-02,  2.49982104e-02, -5.01414277e-02,\n",
              "        8.96454453e-02,  2.51924042e-02,  3.50836874e-03,  1.43658323e-02,\n",
              "        9.14821308e-03,  2.33379789e-02, -5.29679190e-03, -1.25141181e-02,\n",
              "        1.54326539e-02, -5.43762073e-02, -3.22018936e-02,  1.89377069e-02,\n",
              "       -3.11331414e-02, -9.66982469e-02, -2.87763998e-02, -5.78387687e-03,\n",
              "       -3.65352631e-02,  1.61730181e-02,  6.49310939e-04, -4.52639423e-02,\n",
              "        5.16805239e-02,  2.86450703e-02, -5.28514720e-02,  8.18133820e-03,\n",
              "       -1.24786533e-02,  2.49462493e-04,  3.02879210e-03,  1.05817523e-02,\n",
              "        9.23451129e-03,  4.89202607e-03, -1.57972015e-02, -6.03493489e-03,\n",
              "        1.65418617e-03,  3.09458431e-02,  3.33603881e-02,  4.11427058e-02,\n",
              "       -4.17440257e-04,  2.28151982e-03, -5.14152041e-03, -9.84651223e-03,\n",
              "        4.97565307e-02,  1.83854718e-02, -6.14909865e-02, -6.16052523e-02,\n",
              "       -6.46242499e-02, -2.80288365e-02, -1.85545646e-02,  2.31147241e-02,\n",
              "        5.59159927e-02,  8.43630731e-03,  1.28546413e-02, -2.90745702e-02,\n",
              "        3.05530499e-03,  2.59798113e-02,  8.29492602e-03,  3.14935818e-02,\n",
              "        1.75021738e-02, -3.24129723e-02,  1.42361438e-02, -3.91797461e-02,\n",
              "        6.67216443e-03,  1.65845044e-02, -1.00270314e-02,  4.47480530e-02,\n",
              "        8.49790405e-03, -1.07252410e-04, -5.27651003e-03, -1.00013772e-02,\n",
              "       -5.17849578e-03,  2.01637279e-02,  2.63685081e-02, -9.41319205e-03,\n",
              "       -1.96663179e-02, -3.76974195e-02,  7.52063142e-03, -9.14994627e-03,\n",
              "       -3.08348332e-02, -3.91650349e-02, -5.40616065e-02,  2.94830333e-02,\n",
              "        2.84957998e-02,  1.65380780e-02,  1.41124234e-01, -4.11048308e-02,\n",
              "       -2.97687035e-02, -5.49829938e-02,  8.80081393e-03, -1.71924068e-03,\n",
              "       -9.28504672e-03, -3.80597450e-02,  1.33462727e-01, -2.94038784e-02,\n",
              "       -1.45556414e-02, -5.31978942e-02, -5.65797314e-02,  2.68487483e-02,\n",
              "        1.66973416e-02,  1.28642721e-02, -4.01308313e-02,  6.84314519e-02,\n",
              "        3.00462507e-02, -4.03797805e-01, -3.69605944e-02, -4.62704599e-02,\n",
              "        1.11498879e-02,  1.53656835e-02, -4.82090488e-02, -1.31171318e-02,\n",
              "        4.55760919e-02,  6.10133284e-04, -1.34256948e-02, -1.05745392e-02,\n",
              "       -4.41531166e-02,  1.98111665e-02,  2.63458267e-02,  1.58807803e-02,\n",
              "       -1.72147341e-02,  5.86818485e-03, -1.37627851e-02,  7.06674904e-03,\n",
              "        2.35064700e-03,  4.15180288e-02, -8.67665187e-02,  1.61498715e-03,\n",
              "       -3.02789677e-02, -8.30843113e-03, -2.78036646e-03, -1.70672927e-02,\n",
              "       -2.88146026e-02,  1.87797565e-02,  2.03031767e-02,  4.88123335e-02,\n",
              "        2.55042948e-02,  8.34552199e-03, -5.15633449e-03,  4.19996446e-03,\n",
              "       -3.92886606e-04,  2.88462434e-02, -6.12840280e-02,  1.37244342e-02,\n",
              "        4.09877226e-02,  1.23069864e-02, -3.14786956e-02, -4.12089862e-02,\n",
              "        3.07604088e-03,  5.80099858e-02, -3.56772617e-02,  7.34309480e-02,\n",
              "        1.40532628e-02, -3.27572785e-02,  2.71480493e-02,  6.34871796e-02,\n",
              "        4.69912775e-02,  1.31974490e-02,  2.53130887e-02, -8.94528553e-02,\n",
              "       -2.67942734e-02, -3.12084723e-02, -9.87650454e-02, -6.74897246e-03,\n",
              "       -1.88836269e-02, -2.07605436e-02,  2.74150539e-02, -2.80557456e-03,\n",
              "        5.00680134e-03, -4.12532315e-02,  3.99790853e-02, -4.35876586e-02,\n",
              "       -7.71174300e-03, -8.80798511e-03,  1.45493913e-02,  8.98950398e-02,\n",
              "        2.61490662e-02,  6.65332675e-02, -1.22515857e-02,  7.56316036e-02,\n",
              "       -1.04017735e-01, -1.55249555e-02,  8.35509505e-03,  4.24117176e-03,\n",
              "        8.98212101e-03, -7.25855469e-04,  4.09312509e-02, -2.95067262e-02,\n",
              "        1.48539916e-02,  1.19674264e-03, -1.02306332e-03,  3.56051046e-03,\n",
              "       -3.73648782e-03, -4.80456725e-02, -1.18453194e-04, -5.96791208e-02,\n",
              "        3.76994163e-02, -5.80292270e-02,  3.89265008e-02, -2.53554340e-02,\n",
              "       -3.21411751e-02,  3.92266810e-02, -3.24684605e-02,  2.11932883e-02,\n",
              "       -2.29008049e-02,  1.46530047e-02, -3.23476009e-02,  4.14634831e-02,\n",
              "       -2.87887044e-02, -1.65406317e-02,  2.14111507e-02, -1.73781179e-02,\n",
              "        1.53989224e-02, -2.48727743e-02,  1.27038890e-02,  1.43634006e-02,\n",
              "       -3.28359865e-02, -1.96083281e-02,  2.18601972e-02,  5.57918139e-02,\n",
              "       -1.04366690e-01,  6.73360452e-02,  2.53512505e-02, -2.80259978e-02,\n",
              "       -1.67403407e-02, -1.09041305e-02, -4.28157598e-02,  5.05731776e-02,\n",
              "       -7.06090868e-05,  3.21104862e-02, -9.84936208e-03,  8.48778058e-03,\n",
              "        1.72700249e-02, -4.25984757e-03,  2.74699274e-02, -3.84810641e-02,\n",
              "        6.94944859e-02, -2.60863807e-02,  5.02196550e-02,  9.97249689e-03,\n",
              "        9.92293134e-02, -1.18885119e-03, -5.59861884e-02, -1.86978206e-02,\n",
              "        7.14610273e-04, -2.64077866e-03, -5.03091551e-02, -2.42629554e-02,\n",
              "        7.13205412e-02,  5.25677353e-02,  2.39682477e-02, -1.97730549e-02,\n",
              "       -2.10425421e-03, -3.17890979e-02, -3.31810676e-02,  1.98120670e-03,\n",
              "        1.92816351e-02,  2.48420401e-03, -3.13551575e-02,  4.25710008e-02,\n",
              "       -2.56269313e-02,  3.08358390e-02, -5.81280999e-02,  5.60426898e-02,\n",
              "       -1.22148525e-02,  5.10329120e-02, -3.68496515e-02,  5.53214364e-02,\n",
              "        5.75203868e-03,  2.42226827e-03,  2.70112678e-02,  5.45276850e-02,\n",
              "        6.07537851e-02, -2.89708469e-02,  1.25467964e-02, -1.01953866e-02,\n",
              "       -3.65622505e-03,  4.33419086e-03, -1.37821364e-04,  3.12494021e-02,\n",
              "       -1.93917118e-02,  7.54487440e-02, -2.51791365e-02,  5.63875921e-02,\n",
              "       -6.14998769e-03, -4.92963381e-03,  3.33232339e-03, -1.90018360e-02,\n",
              "       -3.37703228e-02,  6.26123920e-02,  1.48860142e-02,  8.70714933e-02,\n",
              "        4.53106768e-04, -2.50254525e-03,  5.21345921e-02, -5.62341511e-02,\n",
              "       -2.30401009e-02,  3.11287250e-02, -1.12866377e-02, -2.82030879e-03,\n",
              "        4.84344475e-02, -1.32706910e-02,  4.01578844e-03, -2.52867527e-02,\n",
              "       -2.51178704e-02, -3.77495214e-02, -3.03280707e-02, -3.44664119e-02,\n",
              "       -3.70037444e-02, -6.83992868e-03, -8.50110780e-03,  1.41093815e-02,\n",
              "       -1.84801258e-02, -1.55978894e-03,  1.22631351e-02, -1.64078251e-02,\n",
              "       -3.13826390e-02, -2.01835297e-02, -1.12915337e-02, -7.67245656e-03,\n",
              "        9.59236175e-03,  3.94830033e-02, -6.10002428e-02, -3.83455157e-02,\n",
              "       -2.19142996e-02, -4.21524933e-03, -8.85112956e-03,  3.26336585e-02,\n",
              "       -4.63038078e-03,  5.42777441e-02,  7.63936490e-02,  1.92471594e-02,\n",
              "       -2.90015135e-02,  5.21772057e-02, -2.71014124e-02, -4.59058098e-02,\n",
              "       -3.49116698e-03,  5.19022904e-02, -1.95241589e-02,  9.25829262e-03,\n",
              "        1.53898401e-02, -3.37199010e-02, -1.33965947e-02, -6.29386455e-02,\n",
              "       -1.72306187e-02,  1.01570692e-02,  5.47687188e-02, -7.86626860e-02,\n",
              "       -5.25626913e-02,  2.69512758e-02, -4.66768518e-02,  2.12331880e-02,\n",
              "       -4.55694646e-02, -2.90880166e-02,  2.87242252e-02, -2.57017333e-02,\n",
              "        3.38138342e-02,  2.44785310e-03, -1.51524255e-02,  6.22178577e-02,\n",
              "       -4.19282578e-02,  9.26210359e-03, -2.36033723e-02,  5.01411641e-03],\n",
              "      dtype=float32)"
            ]
          },
          "metadata": {},
          "execution_count": 27
        }
      ]
    },
    {
      "cell_type": "markdown",
      "metadata": {
        "id": "ZHQWIMzJ5xCb"
      },
      "source": [
        "Let's write a quick function to see how well our retrieval works! We are going to compute **precision@5**."
      ]
    },
    {
      "cell_type": "code",
      "execution_count": 8,
      "metadata": {
        "id": "z5V_JIF81WAM",
        "colab": {
          "base_uri": "https://localhost:8080/"
        },
        "outputId": "e976c7d3-44e9-4d46-a6bc-827d2fdedd2e"
      },
      "outputs": [
        {
          "output_type": "execute_result",
          "data": {
            "text/plain": [
              "0.54"
            ]
          },
          "metadata": {},
          "execution_count": 8
        }
      ],
      "source": [
        "precision = 0\n",
        "\n",
        "# we could batch this operation to make it faster\n",
        "for index, t in enumerate(text_embeddings):\n",
        "    arr = t.dot(image_embeddings.T)\n",
        "\n",
        "    best = arr.argsort()[-5:][::-1]\n",
        "\n",
        "    if index in best:\n",
        "        precision +=1\n",
        "\n",
        "round(precision/len(text_embeddings), 2)"
      ]
    },
    {
      "cell_type": "markdown",
      "metadata": {
        "id": "e7v6WUkWDCE6"
      },
      "source": [
        "Good! **0.54** on this completely unseen dataset is honestly a pretty good result! It means that more than half of the times, the product we are looking for is in the top 5 returned items.\n",
        "\n",
        "### Building a Toy Search Engine\n",
        "\n",
        "Let's now test our toy \"product search engine\". We will embed a textual query and then rank the images we have by similarity with the query vector.\n",
        "\n"
      ]
    },
    {
      "cell_type": "code",
      "execution_count": 9,
      "metadata": {
        "id": "X5VNv1lx1rY1",
        "colab": {
          "base_uri": "https://localhost:8080/",
          "height": 290,
          "referenced_widgets": [
            "73a5bbdaf5714f1a8bd3ce0c7c4b3c3d",
            "467668e9b4544d4bb5e865ad89c82d7f",
            "ad2031f7561c40f0941698012a3d7ab9",
            "3cd315e9183e48a4ab2310a5c96dec90",
            "d224ca64cf654d18be9274797b03fd7f",
            "c6eb353387d544e4a1ef7f98961ce466",
            "aff76ba89d994fc8a0027439396ac266",
            "d671a9694d43459d9887a7f87cce5d1a",
            "923f9682f8ce4b20b40b676e350aab0f",
            "0ba49875423a4cc4abe8baab32b2da86",
            "2dbd65f9f9164ebf8301e4d398439aa1"
          ]
        },
        "outputId": "177d444a-c3ef-4d54-d082-b811ad6b3cad"
      },
      "outputs": [
        {
          "output_type": "display_data",
          "data": {
            "text/plain": [
              "Map:   0%|          | 0/1 [00:00<?, ? examples/s]"
            ],
            "application/vnd.jupyter.widget-view+json": {
              "version_major": 2,
              "version_minor": 0,
              "model_id": "73a5bbdaf5714f1a8bd3ce0c7c4b3c3d"
            }
          },
          "metadata": {}
        },
        {
          "output_type": "stream",
          "name": "stderr",
          "text": [
            "1it [00:00, 21.49it/s]\n"
          ]
        },
        {
          "output_type": "execute_result",
          "data": {
            "text/plain": [
              "<PIL.Image.Image image mode=RGB size=297x224>"
            ],
            "image/png": "[encoded data removed]"
          },
          "metadata": {},
          "execution_count": 9
        }
      ],
      "source": [
        "text_embedding = fclip.encode_text([\"a pair of pink shorts\"], 32)[0]\n",
        "\n",
        "id_of_matched_object = np.argmax(text_embedding.dot(image_embeddings.T))\n",
        "found_object = subset[\"article_id\"].iloc[id_of_matched_object].tolist()\n",
        "\n",
        "fixed_height = 224\n",
        "\n",
        "image = Image.open(f\"data_for_fashion_clip/{found_object}.jpg\")\n",
        "height_percent = (fixed_height / float(image.size[1]))\n",
        "width_size = int((float(image.size[0]) * float(height_percent)))\n",
        "image = image.resize((width_size, fixed_height), Image.NEAREST)\n",
        "\n",
        "image"
      ]
    },
    {
      "cell_type": "markdown",
      "metadata": {
        "id": "eU-krCddFFcF"
      },
      "source": [
        "Note that, if the query does not make sense - in this context - the model is not going to return anything useful."
      ]
    },
    {
      "cell_type": "code",
      "execution_count": 10,
      "metadata": {
        "id": "CFAXbE17FBdK",
        "colab": {
          "base_uri": "https://localhost:8080/",
          "height": 290,
          "referenced_widgets": [
            "686c529f574d47ed9dd5dd7eb165e467",
            "76086be9427245f58cb2112952d6027e",
            "40400f8c3ac64a08a2924143a737d56e",
            "67e1cb7ef2f5435080498769ab8afd3b",
            "c8bb1b2b85ab4fd5bfe4d318b8d44f56",
            "555d1913fddc4c19b659c302cbcb4f6d",
            "23c7029ceb1b482fab751474fca53e62",
            "6223cb6532134cbe9281fcdb7f764e78",
            "5737163dd258460ebd32a90c165a3f11",
            "e48589e2dc8144a2bac62d20677cdc71",
            "f6068c8ff54e4c01816e2c635d312af3"
          ]
        },
        "outputId": "15360c27-c90d-459f-d556-7200241beef4"
      },
      "outputs": [
        {
          "output_type": "display_data",
          "data": {
            "text/plain": [
              "Map:   0%|          | 0/1 [00:00<?, ? examples/s]"
            ],
            "application/vnd.jupyter.widget-view+json": {
              "version_major": 2,
              "version_minor": 0,
              "model_id": "686c529f574d47ed9dd5dd7eb165e467"
            }
          },
          "metadata": {}
        },
        {
          "output_type": "stream",
          "name": "stderr",
          "text": [
            "1it [00:00, 50.81it/s]\n"
          ]
        },
        {
          "output_type": "execute_result",
          "data": {
            "text/plain": [
              "<PIL.Image.Image image mode=RGB size=149x224>"
            ],
            "image/png": "[encoded data removed]"
          },
          "metadata": {},
          "execution_count": 10
        }
      ],
      "source": [
        "text_embedding = fclip.encode_text([\"a house\"], 32)[0]\n",
        "\n",
        "id_of_matched_object = np.argmax(text_embedding.dot(image_embeddings.T))\n",
        "found_object = subset[\"article_id\"].iloc[id_of_matched_object].tolist()\n",
        "\n",
        "fixed_height = 224\n",
        "\n",
        "image = Image.open(f\"data_for_fashion_clip/{found_object}.jpg\")\n",
        "height_percent = (fixed_height / float(image.size[1]))\n",
        "width_size = int((float(image.size[0]) * float(height_percent)))\n",
        "image = image.resize((width_size, fixed_height), Image.NEAREST)\n",
        "\n",
        "image"
      ]
    },
    {
      "cell_type": "markdown",
      "metadata": {
        "id": "87URDy7xh65d"
      },
      "source": [
        "# Zero Shot Classification\n",
        "\n",
        "ZeroShot classification is one of the most exciting applications of CLIP like models! We encode the image of a fashion item we want to classify with FashionCLIP’s image encoder and retrieve the closest label vectors through a dot product.\n",
        "\n",
        "<img src=\"https://miro.medium.com/v2/resize:fit:1400/1*No6ZONpQMIcfFaNMOI5oNw.gif\"  width=\"800\">\n",
        "\n"
      ]
    },
    {
      "cell_type": "code",
      "execution_count": 11,
      "metadata": {
        "id": "kZbAxKKKiBvq",
        "colab": {
          "base_uri": "https://localhost:8080/"
        },
        "outputId": "0b5e51c9-c333-4679-dd1f-b04777e86a91"
      },
      "outputs": [
        {
          "output_type": "stream",
          "name": "stdout",
          "text": [
            "These are our labels: ['Vest top' 'Hair/alice band' 'Leggings/Tights' 'T-shirt' 'Sneakers'\n",
            " 'Sunglasses' 'Cardigan' 'Gloves' 'Underwear Tights' 'Hoodie' 'Other shoe'\n",
            " 'Shorts' 'Jumpsuit/Playsuit' 'Dress' 'Trousers' 'Belt' 'Socks'\n",
            " 'Underwear bottom' 'Bodysuit' 'Hat/beanie' 'Scarf' 'Jacket'\n",
            " 'Other accessories' 'Bra' 'Swimwear bottom' 'Blazer' 'Top' 'Polo shirt'\n",
            " 'Sweater' 'Necklace' 'Pyjama set' 'Blouse' 'Bag' 'Shirt' 'Coat' 'Boots'\n",
            " 'Skirt' 'Garment Set' 'Bikini top' 'Sandals' 'Dungarees' 'Earring'\n",
            " 'Cap/peaked' 'Ballerinas' 'Swimsuit' 'Hat/brim']\n"
          ]
        }
      ],
      "source": [
        "labels = subset[\"product_type_name\"].unique()\n",
        "print(f\"These are our labels: {labels}\")"
      ]
    },
    {
      "cell_type": "code",
      "execution_count": 12,
      "metadata": {
        "id": "sGdYbWx9p3oB",
        "colab": {
          "base_uri": "https://localhost:8080/",
          "height": 66,
          "referenced_widgets": [
            "ca2821eb672b4ffeaba683aa63c232a3",
            "470bf50590e14e14970658ea86205840",
            "a7335c8504264b07ae5a4cd212483033",
            "b26f6384d06f49cd9c10075d55647ae8",
            "ce656ac93c3b403c9a6839d03764c2a3",
            "f6aad0dfd2344764b7270a420350ba11",
            "e9098e8f509a467297c21a2cf9c4cc8f",
            "9c9bad2f5b7542dea3c616454cc6c6bb",
            "21b796f1fca0443cb0eb225703f68162",
            "2ca618c169594f9a9b689ebdcd26f0ea",
            "8d39653e16f84dd8aa79a31d2266a98f"
          ]
        },
        "outputId": "be402c17-d98e-4337-99bc-a43458611be0"
      },
      "outputs": [
        {
          "output_type": "display_data",
          "data": {
            "text/plain": [
              "Map:   0%|          | 0/46 [00:00<?, ? examples/s]"
            ],
            "application/vnd.jupyter.widget-view+json": {
              "version_major": 2,
              "version_minor": 0,
              "model_id": "ca2821eb672b4ffeaba683aa63c232a3"
            }
          },
          "metadata": {}
        },
        {
          "output_type": "stream",
          "name": "stderr",
          "text": [
            "2it [00:00, 13.71it/s]\n"
          ]
        }
      ],
      "source": [
        "labels_prompt = [f\"a photo of a {k}\" for k in labels]\n",
        "\n",
        "label_embeddings = fclip.encode_text(labels_prompt, batch_size=32)\n",
        "label_embeddings = label_embeddings/np.linalg.norm(label_embeddings, ord=2, axis=-1, keepdims=True)"
      ]
    },
    {
      "cell_type": "code",
      "execution_count": 13,
      "metadata": {
        "id": "4SFckqe7msFn"
      },
      "outputs": [],
      "source": [
        "# let's compute the class distribution for all images\n",
        "predicted_classes_distribution = label_embeddings.dot(image_embeddings.T)"
      ]
    },
    {
      "cell_type": "code",
      "execution_count": 14,
      "metadata": {
        "id": "WjsDedBFm1VQ"
      },
      "outputs": [],
      "source": [
        "# let's take the best label (the most similar to the image)\n",
        "predicted = [labels[k] for k in np.argmax(predicted_classes_distribution, axis=0)]"
      ]
    },
    {
      "cell_type": "code",
      "execution_count": 15,
      "metadata": {
        "id": "B2PulVuMnB7J",
        "colab": {
          "base_uri": "https://localhost:8080/"
        },
        "outputId": "9685c428-3ae5-411b-ae3a-b5e03067b432"
      },
      "outputs": [
        {
          "output_type": "stream",
          "name": "stdout",
          "text": [
            "                   precision    recall  f1-score   support\n",
            "\n",
            "              Bag       0.97      0.85      0.91        40\n",
            "       Ballerinas       0.67      0.15      0.25        13\n",
            "             Belt       0.75      0.92      0.83        13\n",
            "       Bikini top       0.68      0.73      0.70        37\n",
            "           Blazer       0.94      0.87      0.90        38\n",
            "           Blouse       0.47      0.79      0.59       135\n",
            "         Bodysuit       0.53      0.64      0.58        25\n",
            "            Boots       0.91      0.65      0.75        31\n",
            "              Bra       0.90      0.77      0.83        60\n",
            "       Cap/peaked       0.95      0.86      0.90        21\n",
            "         Cardigan       0.58      0.86      0.69        49\n",
            "             Coat       0.18      0.92      0.30        12\n",
            "            Dress       0.92      0.76      0.83       293\n",
            "        Dungarees       0.32      0.67      0.43        12\n",
            "          Earring       0.98      0.84      0.90        55\n",
            "      Garment Set       0.71      0.18      0.29        28\n",
            "           Gloves       1.00      0.93      0.97        15\n",
            "  Hair/alice band       0.83      0.79      0.81        24\n",
            "       Hat/beanie       0.94      0.80      0.87        41\n",
            "         Hat/brim       0.76      0.87      0.81        15\n",
            "           Hoodie       0.68      0.93      0.79        71\n",
            "           Jacket       0.92      0.54      0.68       101\n",
            "Jumpsuit/Playsuit       0.32      0.30      0.31        33\n",
            "  Leggings/Tights       0.70      0.52      0.60        63\n",
            "         Necklace       0.79      0.90      0.84        21\n",
            "Other accessories       0.39      0.32      0.35        34\n",
            "       Other shoe       0.31      0.81      0.45        16\n",
            "       Polo shirt       0.63      0.92      0.75        13\n",
            "       Pyjama set       0.41      0.95      0.57        37\n",
            "          Sandals       0.86      1.00      0.92        24\n",
            "            Scarf       0.67      0.91      0.77        33\n",
            "            Shirt       0.38      0.74      0.50        72\n",
            "           Shorts       0.75      0.87      0.80       138\n",
            "            Skirt       0.91      0.90      0.90       111\n",
            "         Sneakers       0.95      0.79      0.86        66\n",
            "            Socks       0.89      0.98      0.93        41\n",
            "       Sunglasses       0.92      1.00      0.96        11\n",
            "          Sweater       0.84      0.81      0.82       313\n",
            "         Swimsuit       0.47      0.79      0.59        19\n",
            "  Swimwear bottom       0.51      0.63      0.56        38\n",
            "          T-shirt       0.84      0.60      0.70       226\n",
            "              Top       0.00      0.00      0.00       141\n",
            "         Trousers       0.91      0.85      0.88       340\n",
            " Underwear Tights       0.43      0.55      0.48        11\n",
            " Underwear bottom       0.95      0.67      0.78        81\n",
            "         Vest top       0.69      0.78      0.73        93\n",
            "\n",
            "         accuracy                           0.73      3104\n",
            "        macro avg       0.70      0.74      0.69      3104\n",
            "     weighted avg       0.75      0.73      0.72      3104\n",
            "\n"
          ]
        }
      ],
      "source": [
        "print(classification_report(subset[\"product_type_name\"], predicted))"
      ]
    },
    {
      "cell_type": "markdown",
      "metadata": {
        "id": "iE4Kgt_DqG4A"
      },
      "source": [
        "Results look good! **0.69** in Macro F1 on many classes **without the need of training anything**!!\n",
        "\n",
        "There are a couple of classes in which we don't do well, for example **Top** and it might be because in English it's an ambigous term.\n",
        "\n",
        "Moreover, I haven't actually searched for a prompt that works well and some of the classes contain a \"\\\" in the name that might complicate the prediction.\n",
        "\n",
        "Anyway, considering that we did this without studying the data much, we got a pretty good performance!"
      ]
    },
    {
      "cell_type": "markdown",
      "metadata": {
        "id": "O4r6m49W1WTn"
      },
      "source": [
        "# Feature Extraction for Supervised Learning\n",
        "\n",
        "Finally, let's do some classification with the image features we have extracted before. We will use the features to train a linear classifier and see how it performs!\n",
        "\n"
      ]
    },
    {
      "cell_type": "code",
      "execution_count": 16,
      "metadata": {
        "id": "qYX4S4zX8Q_D"
      },
      "outputs": [],
      "source": [
        "classes = subset[\"product_group_name\"].tolist()\n",
        "X_train, X_test, y_train, y_test = train_test_split(image_embeddings, classes, test_size=0.20, random_state=32, stratify=classes)"
      ]
    },
    {
      "cell_type": "code",
      "execution_count": 17,
      "metadata": {
        "id": "16vqd6Gf8y48"
      },
      "outputs": [],
      "source": [
        "clf = LogisticRegression(random_state=0, class_weight=\"balanced\").fit(X_train, y_train)"
      ]
    },
    {
      "cell_type": "code",
      "execution_count": 18,
      "metadata": {
        "id": "hVtH8WS7851f",
        "colab": {
          "base_uri": "https://localhost:8080/"
        },
        "outputId": "dec3e01d-a804-45ec-a3a7-75855b37859a"
      },
      "outputs": [
        {
          "output_type": "stream",
          "name": "stdout",
          "text": [
            "                    precision    recall  f1-score   support\n",
            "\n",
            "       Accessories       0.86      1.00      0.92        65\n",
            " Garment Full body       0.69      0.95      0.80        73\n",
            "Garment Lower body       0.98      0.94      0.96       131\n",
            "Garment Upper body       1.00      0.85      0.92       258\n",
            "         Nightwear       0.58      1.00      0.74         7\n",
            "             Shoes       1.00      0.90      0.95        30\n",
            "    Socks & Tights       0.75      0.90      0.82        10\n",
            "          Swimwear       0.65      0.68      0.67        19\n",
            "         Underwear       0.96      0.96      0.96        28\n",
            "\n",
            "          accuracy                           0.90       621\n",
            "         macro avg       0.83      0.91      0.86       621\n",
            "      weighted avg       0.92      0.90      0.91       621\n",
            "\n"
          ]
        }
      ],
      "source": [
        "print(classification_report(y_test, clf.predict(X_test)))"
      ]
    },
    {
      "cell_type": "markdown",
      "metadata": {
        "id": "0u1z1vu6q6t4"
      },
      "source": [
        "We slightly under perform on Nightwear, but probably because we don't have much data. But the classifier works really well!\n",
        "\n",
        "\n",
        "Note: If you do this with **product_type_name** you are going to get a Macro F1 0.86 (that is better than the zero-shot one!)."
      ]
    },
    {
      "cell_type": "markdown",
      "metadata": {
        "id": "cOrcmZEB_ffg"
      },
      "source": [
        "### Visualizing Image Embeddings in the Latent Space\n",
        "\n",
        "To address our use cases, we assume FashionCLIP embeds images in the latent space following an underlying semantics. Let's use a dimensionality reduction algorithm to visualize that.\n",
        "\n",
        "UMAP is a well-known dimension reduction algorithm that works out-of-the-box on multidimensional data. Through UMAP, we can remap our image embeddings into a 2D space and plot it as a scatterplot."
      ]
    },
    {
      "cell_type": "code",
      "execution_count": 19,
      "metadata": {
        "colab": {
          "base_uri": "https://localhost:8080/"
        },
        "id": "ncrbsEa6_kyi",
        "outputId": "def33989-9dbc-45dc-ca47-80a43146fa94"
      },
      "outputs": [
        {
          "output_type": "stream",
          "name": "stdout",
          "text": [
            "Collecting umap-learn\n",
            "  Downloading umap_learn-0.5.6-py3-none-any.whl (85 kB)\n",
            "\u001b[?25l     \u001b[90m━━━━━━━━━━━━━━━━━━━━━━━━━━━━━━━━━━━━━━━━\u001b[0m \u001b[32m0.0/85.7 kB\u001b[0m \u001b[31m?\u001b[0m eta \u001b[36m-:--:--\u001b[0m\r\u001b[2K     \u001b[90m━━━━━━━━━━━━━━━━━━━━━━━━━━━━━━━━━━━━━━━━\u001b[0m \u001b[32m85.7/85.7 kB\u001b[0m \u001b[31m3.2 MB/s\u001b[0m eta \u001b[36m0:00:00\u001b[0m\n",
            "\u001b[?25hRequirement already satisfied: numpy>=1.17 in /usr/local/lib/python3.10/dist-packages (from umap-learn) (1.25.2)\n",
            "Requirement already satisfied: scipy>=1.3.1 in /usr/local/lib/python3.10/dist-packages (from umap-learn) (1.11.4)\n",
            "Requirement already satisfied: scikit-learn>=0.22 in /usr/local/lib/python3.10/dist-packages (from umap-learn) (1.2.2)\n",
            "Requirement already satisfied: numba>=0.51.2 in /usr/local/lib/python3.10/dist-packages (from umap-learn) (0.58.1)\n",
            "Collecting pynndescent>=0.5 (from umap-learn)\n",
            "  Downloading pynndescent-0.5.12-py3-none-any.whl (56 kB)\n",
            "\u001b[?25l     \u001b[90m━━━━━━━━━━━━━━━━━━━━━━━━━━━━━━━━━━━━━━━━\u001b[0m \u001b[32m0.0/56.8 kB\u001b[0m \u001b[31m?\u001b[0m eta \u001b[36m-:--:--\u001b[0m\r\u001b[2K     \u001b[90m━━━━━━━━━━━━━━━━━━━━━━━━━━━━━━━━━━━━━━━━\u001b[0m \u001b[32m56.8/56.8 kB\u001b[0m \u001b[31m8.1 MB/s\u001b[0m eta \u001b[36m0:00:00\u001b[0m\n",
            "\u001b[?25hRequirement already satisfied: tqdm in /usr/local/lib/python3.10/dist-packages (from umap-learn) (4.66.2)\n",
            "Requirement already satisfied: llvmlite<0.42,>=0.41.0dev0 in /usr/local/lib/python3.10/dist-packages (from numba>=0.51.2->umap-learn) (0.41.1)\n",
            "Requirement already satisfied: joblib>=0.11 in /usr/local/lib/python3.10/dist-packages (from pynndescent>=0.5->umap-learn) (1.4.0)\n",
            "Requirement already satisfied: threadpoolctl>=2.0.0 in /usr/local/lib/python3.10/dist-packages (from scikit-learn>=0.22->umap-learn) (3.4.0)\n",
            "Installing collected packages: pynndescent, umap-learn\n",
            "Successfully installed pynndescent-0.5.12 umap-learn-0.5.6\n"
          ]
        }
      ],
      "source": [
        "!pip install umap-learn\n",
        "\n",
        "import umap\n",
        "\n",
        "reducer = umap.UMAP()"
      ]
    },
    {
      "cell_type": "code",
      "execution_count": 20,
      "metadata": {
        "id": "0si3bC8d_tUS"
      },
      "outputs": [],
      "source": [
        "umap_embeddings = reducer.fit_transform(image_embeddings)"
      ]
    },
    {
      "cell_type": "code",
      "execution_count": 21,
      "metadata": {
        "id": "en7yaftDAYT8",
        "colab": {
          "base_uri": "https://localhost:8080/"
        },
        "outputId": "fdbebe99-cd2d-4663-bc28-b33bb948975a"
      },
      "outputs": [
        {
          "output_type": "execute_result",
          "data": {
            "text/plain": [
              "(3104, 2)"
            ]
          },
          "metadata": {},
          "execution_count": 21
        }
      ],
      "source": [
        "# shape: (number of images, 2)\n",
        "umap_embeddings.shape"
      ]
    },
    {
      "cell_type": "code",
      "execution_count": 22,
      "metadata": {
        "id": "CytCtBtD__Zj",
        "colab": {
          "base_uri": "https://localhost:8080/",
          "height": 139
        },
        "outputId": "ed2812aa-5138-4d88-cbac-7afc2dedd60b"
      },
      "outputs": [
        {
          "output_type": "error",
          "ename": "AttributeError",
          "evalue": "module 'umap' has no attribute 'plot'",
          "traceback": [
            "\u001b[0;31m---------------------------------------------------------------------------\u001b[0m",
            "\u001b[0;31mAttributeError\u001b[0m                            Traceback (most recent call last)",
            "\u001b[0;32m<ipython-input-22-181d9fc99755>\u001b[0m in \u001b[0;36m<cell line: 1>\u001b[0;34m()\u001b[0m\n\u001b[0;32m----> 1\u001b[0;31m \u001b[0mumap\u001b[0m\u001b[0;34m.\u001b[0m\u001b[0mplot\u001b[0m\u001b[0;34m.\u001b[0m\u001b[0mpoints\u001b[0m\u001b[0;34m(\u001b[0m\u001b[0mreducer\u001b[0m\u001b[0;34m,\u001b[0m \u001b[0mlabels\u001b[0m\u001b[0;34m=\u001b[0m\u001b[0mnp\u001b[0m\u001b[0;34m.\u001b[0m\u001b[0marray\u001b[0m\u001b[0;34m(\u001b[0m\u001b[0mclasses\u001b[0m\u001b[0;34m)\u001b[0m\u001b[0;34m)\u001b[0m\u001b[0;34m\u001b[0m\u001b[0;34m\u001b[0m\u001b[0m\n\u001b[0m",
            "\u001b[0;31mAttributeError\u001b[0m: module 'umap' has no attribute 'plot'"
          ]
        }
      ],
      "source": [
        "umap.plot.points(reducer, labels=np.array(classes))"
      ]
    },
    {
      "cell_type": "markdown",
      "metadata": {
        "id": "3D7Y7VkDIfw4"
      },
      "source": [
        "UMAP reduction highlights interesting things:\n",
        "- distinct fashion categories cluster in distinct regions of the space;\n",
        "- shoes, accessories, socks & tights are well separated from garnments images."
      ]
    }
  ],
  "metadata": {
    "accelerator": "GPU",
    "colab": {
      "provenance": [],
      "include_colab_link": true
    },
    "gpuClass": "standard",
    "kernelspec": {
      "display_name": "Python 3",
      "name": "python3"
    },
    "language_info": {
      "name": "python"
    },
    "widgets": {
      "application/vnd.jupyter.widget-state+json": {
        "446bc0145b9d4d2799053a7cd967e748": {
          "model_module": "@jupyter-widgets/controls",
          "model_name": "HBoxModel",
          "model_module_version": "1.5.0",
          "state": {
            "_dom_classes": [],
            "_model_module": "@jupyter-widgets/controls",
            "_model_module_version": "1.5.0",
            "_model_name": "HBoxModel",
            "_view_count": null,
            "_view_module": "@jupyter-widgets/controls",
            "_view_module_version": "1.5.0",
            "_view_name": "HBoxView",
            "box_style": "",
            "children": [
              "IPY_MODEL_08408c4cbd5e4b948f79bfaed2f6a920",
              "IPY_MODEL_9f19481018584e68a400670b1ba4d8e3",
              "IPY_MODEL_490cef66cb7e4044a1d1565384f15635"
            ],
            "layout": "IPY_MODEL_ec8a2725002144b995e534fe9f5f2adc"
          }
        },
        "08408c4cbd5e4b948f79bfaed2f6a920": {
          "model_module": "@jupyter-widgets/controls",
          "model_name": "HTMLModel",
          "model_module_version": "1.5.0",
          "state": {
            "_dom_classes": [],
            "_model_module": "@jupyter-widgets/controls",
            "_model_module_version": "1.5.0",
            "_model_name": "HTMLModel",
            "_view_count": null,
            "_view_module": "@jupyter-widgets/controls",
            "_view_module_version": "1.5.0",
            "_view_name": "HTMLView",
            "description": "",
            "description_tooltip": null,
            "layout": "IPY_MODEL_c6eea4955aa7444f860fd06f167ecf3c",
            "placeholder": "​",
            "style": "IPY_MODEL_10a86cc600dd43578ab1a653217f8067",
            "value": "Map: 100%"
          }
        },
        "9f19481018584e68a400670b1ba4d8e3": {
          "model_module": "@jupyter-widgets/controls",
          "model_name": "FloatProgressModel",
          "model_module_version": "1.5.0",
          "state": {
            "_dom_classes": [],
            "_model_module": "@jupyter-widgets/controls",
            "_model_module_version": "1.5.0",
            "_model_name": "FloatProgressModel",
            "_view_count": null,
            "_view_module": "@jupyter-widgets/controls",
            "_view_module_version": "1.5.0",
            "_view_name": "ProgressView",
            "bar_style": "success",
            "description": "",
            "description_tooltip": null,
            "layout": "IPY_MODEL_bbbc5372abb2492f80e0025176e0f6f3",
            "max": 3104,
            "min": 0,
            "orientation": "horizontal",
            "style": "IPY_MODEL_8b0b4bec83534f829c3f5454e8c91e27",
            "value": 3104
          }
        },
        "490cef66cb7e4044a1d1565384f15635": {
          "model_module": "@jupyter-widgets/controls",
          "model_name": "HTMLModel",
          "model_module_version": "1.5.0",
          "state": {
            "_dom_classes": [],
            "_model_module": "@jupyter-widgets/controls",
            "_model_module_version": "1.5.0",
            "_model_name": "HTMLModel",
            "_view_count": null,
            "_view_module": "@jupyter-widgets/controls",
            "_view_module_version": "1.5.0",
            "_view_name": "HTMLView",
            "description": "",
            "description_tooltip": null,
            "layout": "IPY_MODEL_1ef65fe4c27449b08bc9babdd43324a9",
            "placeholder": "​",
            "style": "IPY_MODEL_b4c5b61379844df1acd4e908b8a94f55",
            "value": " 3104/3104 [00:00&lt;00:00, 5534.21 examples/s]"
          }
        },
        "ec8a2725002144b995e534fe9f5f2adc": {
          "model_module": "@jupyter-widgets/base",
          "model_name": "LayoutModel",
          "model_module_version": "1.2.0",
          "state": {
            "_model_module": "@jupyter-widgets/base",
            "_model_module_version": "1.2.0",
            "_model_name": "LayoutModel",
            "_view_count": null,
            "_view_module": "@jupyter-widgets/base",
            "_view_module_version": "1.2.0",
            "_view_name": "LayoutView",
            "align_content": null,
            "align_items": null,
            "align_self": null,
            "border": null,
            "bottom": null,
            "display": null,
            "flex": null,
            "flex_flow": null,
            "grid_area": null,
            "grid_auto_columns": null,
            "grid_auto_flow": null,
            "grid_auto_rows": null,
            "grid_column": null,
            "grid_gap": null,
            "grid_row": null,
            "grid_template_areas": null,
            "grid_template_columns": null,
            "grid_template_rows": null,
            "height": null,
            "justify_content": null,
            "justify_items": null,
            "left": null,
            "margin": null,
            "max_height": null,
            "max_width": null,
            "min_height": null,
            "min_width": null,
            "object_fit": null,
            "object_position": null,
            "order": null,
            "overflow": null,
            "overflow_x": null,
            "overflow_y": null,
            "padding": null,
            "right": null,
            "top": null,
            "visibility": null,
            "width": null
          }
        },
        "c6eea4955aa7444f860fd06f167ecf3c": {
          "model_module": "@jupyter-widgets/base",
          "model_name": "LayoutModel",
          "model_module_version": "1.2.0",
          "state": {
            "_model_module": "@jupyter-widgets/base",
            "_model_module_version": "1.2.0",
            "_model_name": "LayoutModel",
            "_view_count": null,
            "_view_module": "@jupyter-widgets/base",
            "_view_module_version": "1.2.0",
            "_view_name": "LayoutView",
            "align_content": null,
            "align_items": null,
            "align_self": null,
            "border": null,
            "bottom": null,
            "display": null,
            "flex": null,
            "flex_flow": null,
            "grid_area": null,
            "grid_auto_columns": null,
            "grid_auto_flow": null,
            "grid_auto_rows": null,
            "grid_column": null,
            "grid_gap": null,
            "grid_row": null,
            "grid_template_areas": null,
            "grid_template_columns": null,
            "grid_template_rows": null,
            "height": null,
            "justify_content": null,
            "justify_items": null,
            "left": null,
            "margin": null,
            "max_height": null,
            "max_width": null,
            "min_height": null,
            "min_width": null,
            "object_fit": null,
            "object_position": null,
            "order": null,
            "overflow": null,
            "overflow_x": null,
            "overflow_y": null,
            "padding": null,
            "right": null,
            "top": null,
            "visibility": null,
            "width": null
          }
        },
        "10a86cc600dd43578ab1a653217f8067": {
          "model_module": "@jupyter-widgets/controls",
          "model_name": "DescriptionStyleModel",
          "model_module_version": "1.5.0",
          "state": {
            "_model_module": "@jupyter-widgets/controls",
            "_model_module_version": "1.5.0",
            "_model_name": "DescriptionStyleModel",
            "_view_count": null,
            "_view_module": "@jupyter-widgets/base",
            "_view_module_version": "1.2.0",
            "_view_name": "StyleView",
            "description_width": ""
          }
        },
        "bbbc5372abb2492f80e0025176e0f6f3": {
          "model_module": "@jupyter-widgets/base",
          "model_name": "LayoutModel",
          "model_module_version": "1.2.0",
          "state": {
            "_model_module": "@jupyter-widgets/base",
            "_model_module_version": "1.2.0",
            "_model_name": "LayoutModel",
            "_view_count": null,
            "_view_module": "@jupyter-widgets/base",
            "_view_module_version": "1.2.0",
            "_view_name": "LayoutView",
            "align_content": null,
            "align_items": null,
            "align_self": null,
            "border": null,
            "bottom": null,
            "display": null,
            "flex": null,
            "flex_flow": null,
            "grid_area": null,
            "grid_auto_columns": null,
            "grid_auto_flow": null,
            "grid_auto_rows": null,
            "grid_column": null,
            "grid_gap": null,
            "grid_row": null,
            "grid_template_areas": null,
            "grid_template_columns": null,
            "grid_template_rows": null,
            "height": null,
            "justify_content": null,
            "justify_items": null,
            "left": null,
            "margin": null,
            "max_height": null,
            "max_width": null,
            "min_height": null,
            "min_width": null,
            "object_fit": null,
            "object_position": null,
            "order": null,
            "overflow": null,
            "overflow_x": null,
            "overflow_y": null,
            "padding": null,
            "right": null,
            "top": null,
            "visibility": null,
            "width": null
          }
        },
        "8b0b4bec83534f829c3f5454e8c91e27": {
          "model_module": "@jupyter-widgets/controls",
          "model_name": "ProgressStyleModel",
          "model_module_version": "1.5.0",
          "state": {
            "_model_module": "@jupyter-widgets/controls",
            "_model_module_version": "1.5.0",
            "_model_name": "ProgressStyleModel",
            "_view_count": null,
            "_view_module": "@jupyter-widgets/base",
            "_view_module_version": "1.2.0",
            "_view_name": "StyleView",
            "bar_color": null,
            "description_width": ""
          }
        },
        "1ef65fe4c27449b08bc9babdd43324a9": {
          "model_module": "@jupyter-widgets/base",
          "model_name": "LayoutModel",
          "model_module_version": "1.2.0",
          "state": {
            "_model_module": "@jupyter-widgets/base",
            "_model_module_version": "1.2.0",
            "_model_name": "LayoutModel",
            "_view_count": null,
            "_view_module": "@jupyter-widgets/base",
            "_view_module_version": "1.2.0",
            "_view_name": "LayoutView",
            "align_content": null,
            "align_items": null,
            "align_self": null,
            "border": null,
            "bottom": null,
            "display": null,
            "flex": null,
            "flex_flow": null,
            "grid_area": null,
            "grid_auto_columns": null,
            "grid_auto_flow": null,
            "grid_auto_rows": null,
            "grid_column": null,
            "grid_gap": null,
            "grid_row": null,
            "grid_template_areas": null,
            "grid_template_columns": null,
            "grid_template_rows": null,
            "height": null,
            "justify_content": null,
            "justify_items": null,
            "left": null,
            "margin": null,
            "max_height": null,
            "max_width": null,
            "min_height": null,
            "min_width": null,
            "object_fit": null,
            "object_position": null,
            "order": null,
            "overflow": null,
            "overflow_x": null,
            "overflow_y": null,
            "padding": null,
            "right": null,
            "top": null,
            "visibility": null,
            "width": null
          }
        },
        "b4c5b61379844df1acd4e908b8a94f55": {
          "model_module": "@jupyter-widgets/controls",
          "model_name": "DescriptionStyleModel",
          "model_module_version": "1.5.0",
          "state": {
            "_model_module": "@jupyter-widgets/controls",
            "_model_module_version": "1.5.0",
            "_model_name": "DescriptionStyleModel",
            "_view_count": null,
            "_view_module": "@jupyter-widgets/base",
            "_view_module_version": "1.2.0",
            "_view_name": "StyleView",
            "description_width": ""
          }
        },
        "73a5bbdaf5714f1a8bd3ce0c7c4b3c3d": {
          "model_module": "@jupyter-widgets/controls",
          "model_name": "HBoxModel",
          "model_module_version": "1.5.0",
          "state": {
            "_dom_classes": [],
            "_model_module": "@jupyter-widgets/controls",
            "_model_module_version": "1.5.0",
            "_model_name": "HBoxModel",
            "_view_count": null,
            "_view_module": "@jupyter-widgets/controls",
            "_view_module_version": "1.5.0",
            "_view_name": "HBoxView",
            "box_style": "",
            "children": [
              "IPY_MODEL_467668e9b4544d4bb5e865ad89c82d7f",
              "IPY_MODEL_ad2031f7561c40f0941698012a3d7ab9",
              "IPY_MODEL_3cd315e9183e48a4ab2310a5c96dec90"
            ],
            "layout": "IPY_MODEL_d224ca64cf654d18be9274797b03fd7f"
          }
        },
        "467668e9b4544d4bb5e865ad89c82d7f": {
          "model_module": "@jupyter-widgets/controls",
          "model_name": "HTMLModel",
          "model_module_version": "1.5.0",
          "state": {
            "_dom_classes": [],
            "_model_module": "@jupyter-widgets/controls",
            "_model_module_version": "1.5.0",
            "_model_name": "HTMLModel",
            "_view_count": null,
            "_view_module": "@jupyter-widgets/controls",
            "_view_module_version": "1.5.0",
            "_view_name": "HTMLView",
            "description": "",
            "description_tooltip": null,
            "layout": "IPY_MODEL_c6eb353387d544e4a1ef7f98961ce466",
            "placeholder": "​",
            "style": "IPY_MODEL_aff76ba89d994fc8a0027439396ac266",
            "value": "Map: 100%"
          }
        },
        "ad2031f7561c40f0941698012a3d7ab9": {
          "model_module": "@jupyter-widgets/controls",
          "model_name": "FloatProgressModel",
          "model_module_version": "1.5.0",
          "state": {
            "_dom_classes": [],
            "_model_module": "@jupyter-widgets/controls",
            "_model_module_version": "1.5.0",
            "_model_name": "FloatProgressModel",
            "_view_count": null,
            "_view_module": "@jupyter-widgets/controls",
            "_view_module_version": "1.5.0",
            "_view_name": "ProgressView",
            "bar_style": "success",
            "description": "",
            "description_tooltip": null,
            "layout": "IPY_MODEL_d671a9694d43459d9887a7f87cce5d1a",
            "max": 1,
            "min": 0,
            "orientation": "horizontal",
            "style": "IPY_MODEL_923f9682f8ce4b20b40b676e350aab0f",
            "value": 1
          }
        },
        "3cd315e9183e48a4ab2310a5c96dec90": {
          "model_module": "@jupyter-widgets/controls",
          "model_name": "HTMLModel",
          "model_module_version": "1.5.0",
          "state": {
            "_dom_classes": [],
            "_model_module": "@jupyter-widgets/controls",
            "_model_module_version": "1.5.0",
            "_model_name": "HTMLModel",
            "_view_count": null,
            "_view_module": "@jupyter-widgets/controls",
            "_view_module_version": "1.5.0",
            "_view_name": "HTMLView",
            "description": "",
            "description_tooltip": null,
            "layout": "IPY_MODEL_0ba49875423a4cc4abe8baab32b2da86",
            "placeholder": "​",
            "style": "IPY_MODEL_2dbd65f9f9164ebf8301e4d398439aa1",
            "value": " 1/1 [00:00&lt;00:00, 37.65 examples/s]"
          }
        },
        "d224ca64cf654d18be9274797b03fd7f": {
          "model_module": "@jupyter-widgets/base",
          "model_name": "LayoutModel",
          "model_module_version": "1.2.0",
          "state": {
            "_model_module": "@jupyter-widgets/base",
            "_model_module_version": "1.2.0",
            "_model_name": "LayoutModel",
            "_view_count": null,
            "_view_module": "@jupyter-widgets/base",
            "_view_module_version": "1.2.0",
            "_view_name": "LayoutView",
            "align_content": null,
            "align_items": null,
            "align_self": null,
            "border": null,
            "bottom": null,
            "display": null,
            "flex": null,
            "flex_flow": null,
            "grid_area": null,
            "grid_auto_columns": null,
            "grid_auto_flow": null,
            "grid_auto_rows": null,
            "grid_column": null,
            "grid_gap": null,
            "grid_row": null,
            "grid_template_areas": null,
            "grid_template_columns": null,
            "grid_template_rows": null,
            "height": null,
            "justify_content": null,
            "justify_items": null,
            "left": null,
            "margin": null,
            "max_height": null,
            "max_width": null,
            "min_height": null,
            "min_width": null,
            "object_fit": null,
            "object_position": null,
            "order": null,
            "overflow": null,
            "overflow_x": null,
            "overflow_y": null,
            "padding": null,
            "right": null,
            "top": null,
            "visibility": null,
            "width": null
          }
        },
        "c6eb353387d544e4a1ef7f98961ce466": {
          "model_module": "@jupyter-widgets/base",
          "model_name": "LayoutModel",
          "model_module_version": "1.2.0",
          "state": {
            "_model_module": "@jupyter-widgets/base",
            "_model_module_version": "1.2.0",
            "_model_name": "LayoutModel",
            "_view_count": null,
            "_view_module": "@jupyter-widgets/base",
            "_view_module_version": "1.2.0",
            "_view_name": "LayoutView",
            "align_content": null,
            "align_items": null,
            "align_self": null,
            "border": null,
            "bottom": null,
            "display": null,
            "flex": null,
            "flex_flow": null,
            "grid_area": null,
            "grid_auto_columns": null,
            "grid_auto_flow": null,
            "grid_auto_rows": null,
            "grid_column": null,
            "grid_gap": null,
            "grid_row": null,
            "grid_template_areas": null,
            "grid_template_columns": null,
            "grid_template_rows": null,
            "height": null,
            "justify_content": null,
            "justify_items": null,
            "left": null,
            "margin": null,
            "max_height": null,
            "max_width": null,
            "min_height": null,
            "min_width": null,
            "object_fit": null,
            "object_position": null,
            "order": null,
            "overflow": null,
            "overflow_x": null,
            "overflow_y": null,
            "padding": null,
            "right": null,
            "top": null,
            "visibility": null,
            "width": null
          }
        },
        "aff76ba89d994fc8a0027439396ac266": {
          "model_module": "@jupyter-widgets/controls",
          "model_name": "DescriptionStyleModel",
          "model_module_version": "1.5.0",
          "state": {
            "_model_module": "@jupyter-widgets/controls",
            "_model_module_version": "1.5.0",
            "_model_name": "DescriptionStyleModel",
            "_view_count": null,
            "_view_module": "@jupyter-widgets/base",
            "_view_module_version": "1.2.0",
            "_view_name": "StyleView",
            "description_width": ""
          }
        },
        "d671a9694d43459d9887a7f87cce5d1a": {
          "model_module": "@jupyter-widgets/base",
          "model_name": "LayoutModel",
          "model_module_version": "1.2.0",
          "state": {
            "_model_module": "@jupyter-widgets/base",
            "_model_module_version": "1.2.0",
            "_model_name": "LayoutModel",
            "_view_count": null,
            "_view_module": "@jupyter-widgets/base",
            "_view_module_version": "1.2.0",
            "_view_name": "LayoutView",
            "align_content": null,
            "align_items": null,
            "align_self": null,
            "border": null,
            "bottom": null,
            "display": null,
            "flex": null,
            "flex_flow": null,
            "grid_area": null,
            "grid_auto_columns": null,
            "grid_auto_flow": null,
            "grid_auto_rows": null,
            "grid_column": null,
            "grid_gap": null,
            "grid_row": null,
            "grid_template_areas": null,
            "grid_template_columns": null,
            "grid_template_rows": null,
            "height": null,
            "justify_content": null,
            "justify_items": null,
            "left": null,
            "margin": null,
            "max_height": null,
            "max_width": null,
            "min_height": null,
            "min_width": null,
            "object_fit": null,
            "object_position": null,
            "order": null,
            "overflow": null,
            "overflow_x": null,
            "overflow_y": null,
            "padding": null,
            "right": null,
            "top": null,
            "visibility": null,
            "width": null
          }
        },
        "923f9682f8ce4b20b40b676e350aab0f": {
          "model_module": "@jupyter-widgets/controls",
          "model_name": "ProgressStyleModel",
          "model_module_version": "1.5.0",
          "state": {
            "_model_module": "@jupyter-widgets/controls",
            "_model_module_version": "1.5.0",
            "_model_name": "ProgressStyleModel",
            "_view_count": null,
            "_view_module": "@jupyter-widgets/base",
            "_view_module_version": "1.2.0",
            "_view_name": "StyleView",
            "bar_color": null,
            "description_width": ""
          }
        },
        "0ba49875423a4cc4abe8baab32b2da86": {
          "model_module": "@jupyter-widgets/base",
          "model_name": "LayoutModel",
          "model_module_version": "1.2.0",
          "state": {
            "_model_module": "@jupyter-widgets/base",
            "_model_module_version": "1.2.0",
            "_model_name": "LayoutModel",
            "_view_count": null,
            "_view_module": "@jupyter-widgets/base",
            "_view_module_version": "1.2.0",
            "_view_name": "LayoutView",
            "align_content": null,
            "align_items": null,
            "align_self": null,
            "border": null,
            "bottom": null,
            "display": null,
            "flex": null,
            "flex_flow": null,
            "grid_area": null,
            "grid_auto_columns": null,
            "grid_auto_flow": null,
            "grid_auto_rows": null,
            "grid_column": null,
            "grid_gap": null,
            "grid_row": null,
            "grid_template_areas": null,
            "grid_template_columns": null,
            "grid_template_rows": null,
            "height": null,
            "justify_content": null,
            "justify_items": null,
            "left": null,
            "margin": null,
            "max_height": null,
            "max_width": null,
            "min_height": null,
            "min_width": null,
            "object_fit": null,
            "object_position": null,
            "order": null,
            "overflow": null,
            "overflow_x": null,
            "overflow_y": null,
            "padding": null,
            "right": null,
            "top": null,
            "visibility": null,
            "width": null
          }
        },
        "2dbd65f9f9164ebf8301e4d398439aa1": {
          "model_module": "@jupyter-widgets/controls",
          "model_name": "DescriptionStyleModel",
          "model_module_version": "1.5.0",
          "state": {
            "_model_module": "@jupyter-widgets/controls",
            "_model_module_version": "1.5.0",
            "_model_name": "DescriptionStyleModel",
            "_view_count": null,
            "_view_module": "@jupyter-widgets/base",
            "_view_module_version": "1.2.0",
            "_view_name": "StyleView",
            "description_width": ""
          }
        },
        "686c529f574d47ed9dd5dd7eb165e467": {
          "model_module": "@jupyter-widgets/controls",
          "model_name": "HBoxModel",
          "model_module_version": "1.5.0",
          "state": {
            "_dom_classes": [],
            "_model_module": "@jupyter-widgets/controls",
            "_model_module_version": "1.5.0",
            "_model_name": "HBoxModel",
            "_view_count": null,
            "_view_module": "@jupyter-widgets/controls",
            "_view_module_version": "1.5.0",
            "_view_name": "HBoxView",
            "box_style": "",
            "children": [
              "IPY_MODEL_76086be9427245f58cb2112952d6027e",
              "IPY_MODEL_40400f8c3ac64a08a2924143a737d56e",
              "IPY_MODEL_67e1cb7ef2f5435080498769ab8afd3b"
            ],
            "layout": "IPY_MODEL_c8bb1b2b85ab4fd5bfe4d318b8d44f56"
          }
        },
        "76086be9427245f58cb2112952d6027e": {
          "model_module": "@jupyter-widgets/controls",
          "model_name": "HTMLModel",
          "model_module_version": "1.5.0",
          "state": {
            "_dom_classes": [],
            "_model_module": "@jupyter-widgets/controls",
            "_model_module_version": "1.5.0",
            "_model_name": "HTMLModel",
            "_view_count": null,
            "_view_module": "@jupyter-widgets/controls",
            "_view_module_version": "1.5.0",
            "_view_name": "HTMLView",
            "description": "",
            "description_tooltip": null,
            "layout": "IPY_MODEL_555d1913fddc4c19b659c302cbcb4f6d",
            "placeholder": "​",
            "style": "IPY_MODEL_23c7029ceb1b482fab751474fca53e62",
            "value": "Map: 100%"
          }
        },
        "40400f8c3ac64a08a2924143a737d56e": {
          "model_module": "@jupyter-widgets/controls",
          "model_name": "FloatProgressModel",
          "model_module_version": "1.5.0",
          "state": {
            "_dom_classes": [],
            "_model_module": "@jupyter-widgets/controls",
            "_model_module_version": "1.5.0",
            "_model_name": "FloatProgressModel",
            "_view_count": null,
            "_view_module": "@jupyter-widgets/controls",
            "_view_module_version": "1.5.0",
            "_view_name": "ProgressView",
            "bar_style": "success",
            "description": "",
            "description_tooltip": null,
            "layout": "IPY_MODEL_6223cb6532134cbe9281fcdb7f764e78",
            "max": 1,
            "min": 0,
            "orientation": "horizontal",
            "style": "IPY_MODEL_5737163dd258460ebd32a90c165a3f11",
            "value": 1
          }
        },
        "67e1cb7ef2f5435080498769ab8afd3b": {
          "model_module": "@jupyter-widgets/controls",
          "model_name": "HTMLModel",
          "model_module_version": "1.5.0",
          "state": {
            "_dom_classes": [],
            "_model_module": "@jupyter-widgets/controls",
            "_model_module_version": "1.5.0",
            "_model_name": "HTMLModel",
            "_view_count": null,
            "_view_module": "@jupyter-widgets/controls",
            "_view_module_version": "1.5.0",
            "_view_name": "HTMLView",
            "description": "",
            "description_tooltip": null,
            "layout": "IPY_MODEL_e48589e2dc8144a2bac62d20677cdc71",
            "placeholder": "​",
            "style": "IPY_MODEL_f6068c8ff54e4c01816e2c635d312af3",
            "value": " 1/1 [00:00&lt;00:00, 43.77 examples/s]"
          }
        },
        "c8bb1b2b85ab4fd5bfe4d318b8d44f56": {
          "model_module": "@jupyter-widgets/base",
          "model_name": "LayoutModel",
          "model_module_version": "1.2.0",
          "state": {
            "_model_module": "@jupyter-widgets/base",
            "_model_module_version": "1.2.0",
            "_model_name": "LayoutModel",
            "_view_count": null,
            "_view_module": "@jupyter-widgets/base",
            "_view_module_version": "1.2.0",
            "_view_name": "LayoutView",
            "align_content": null,
            "align_items": null,
            "align_self": null,
            "border": null,
            "bottom": null,
            "display": null,
            "flex": null,
            "flex_flow": null,
            "grid_area": null,
            "grid_auto_columns": null,
            "grid_auto_flow": null,
            "grid_auto_rows": null,
            "grid_column": null,
            "grid_gap": null,
            "grid_row": null,
            "grid_template_areas": null,
            "grid_template_columns": null,
            "grid_template_rows": null,
            "height": null,
            "justify_content": null,
            "justify_items": null,
            "left": null,
            "margin": null,
            "max_height": null,
            "max_width": null,
            "min_height": null,
            "min_width": null,
            "object_fit": null,
            "object_position": null,
            "order": null,
            "overflow": null,
            "overflow_x": null,
            "overflow_y": null,
            "padding": null,
            "right": null,
            "top": null,
            "visibility": null,
            "width": null
          }
        },
        "555d1913fddc4c19b659c302cbcb4f6d": {
          "model_module": "@jupyter-widgets/base",
          "model_name": "LayoutModel",
          "model_module_version": "1.2.0",
          "state": {
            "_model_module": "@jupyter-widgets/base",
            "_model_module_version": "1.2.0",
            "_model_name": "LayoutModel",
            "_view_count": null,
            "_view_module": "@jupyter-widgets/base",
            "_view_module_version": "1.2.0",
            "_view_name": "LayoutView",
            "align_content": null,
            "align_items": null,
            "align_self": null,
            "border": null,
            "bottom": null,
            "display": null,
            "flex": null,
            "flex_flow": null,
            "grid_area": null,
            "grid_auto_columns": null,
            "grid_auto_flow": null,
            "grid_auto_rows": null,
            "grid_column": null,
            "grid_gap": null,
            "grid_row": null,
            "grid_template_areas": null,
            "grid_template_columns": null,
            "grid_template_rows": null,
            "height": null,
            "justify_content": null,
            "justify_items": null,
            "left": null,
            "margin": null,
            "max_height": null,
            "max_width": null,
            "min_height": null,
            "min_width": null,
            "object_fit": null,
            "object_position": null,
            "order": null,
            "overflow": null,
            "overflow_x": null,
            "overflow_y": null,
            "padding": null,
            "right": null,
            "top": null,
            "visibility": null,
            "width": null
          }
        },
        "23c7029ceb1b482fab751474fca53e62": {
          "model_module": "@jupyter-widgets/controls",
          "model_name": "DescriptionStyleModel",
          "model_module_version": "1.5.0",
          "state": {
            "_model_module": "@jupyter-widgets/controls",
            "_model_module_version": "1.5.0",
            "_model_name": "DescriptionStyleModel",
            "_view_count": null,
            "_view_module": "@jupyter-widgets/base",
            "_view_module_version": "1.2.0",
            "_view_name": "StyleView",
            "description_width": ""
          }
        },
        "6223cb6532134cbe9281fcdb7f764e78": {
          "model_module": "@jupyter-widgets/base",
          "model_name": "LayoutModel",
          "model_module_version": "1.2.0",
          "state": {
            "_model_module": "@jupyter-widgets/base",
            "_model_module_version": "1.2.0",
            "_model_name": "LayoutModel",
            "_view_count": null,
            "_view_module": "@jupyter-widgets/base",
            "_view_module_version": "1.2.0",
            "_view_name": "LayoutView",
            "align_content": null,
            "align_items": null,
            "align_self": null,
            "border": null,
            "bottom": null,
            "display": null,
            "flex": null,
            "flex_flow": null,
            "grid_area": null,
            "grid_auto_columns": null,
            "grid_auto_flow": null,
            "grid_auto_rows": null,
            "grid_column": null,
            "grid_gap": null,
            "grid_row": null,
            "grid_template_areas": null,
            "grid_template_columns": null,
            "grid_template_rows": null,
            "height": null,
            "justify_content": null,
            "justify_items": null,
            "left": null,
            "margin": null,
            "max_height": null,
            "max_width": null,
            "min_height": null,
            "min_width": null,
            "object_fit": null,
            "object_position": null,
            "order": null,
            "overflow": null,
            "overflow_x": null,
            "overflow_y": null,
            "padding": null,
            "right": null,
            "top": null,
            "visibility": null,
            "width": null
          }
        },
        "5737163dd258460ebd32a90c165a3f11": {
          "model_module": "@jupyter-widgets/controls",
          "model_name": "ProgressStyleModel",
          "model_module_version": "1.5.0",
          "state": {
            "_model_module": "@jupyter-widgets/controls",
            "_model_module_version": "1.5.0",
            "_model_name": "ProgressStyleModel",
            "_view_count": null,
            "_view_module": "@jupyter-widgets/base",
            "_view_module_version": "1.2.0",
            "_view_name": "StyleView",
            "bar_color": null,
            "description_width": ""
          }
        },
        "e48589e2dc8144a2bac62d20677cdc71": {
          "model_module": "@jupyter-widgets/base",
          "model_name": "LayoutModel",
          "model_module_version": "1.2.0",
          "state": {
            "_model_module": "@jupyter-widgets/base",
            "_model_module_version": "1.2.0",
            "_model_name": "LayoutModel",
            "_view_count": null,
            "_view_module": "@jupyter-widgets/base",
            "_view_module_version": "1.2.0",
            "_view_name": "LayoutView",
            "align_content": null,
            "align_items": null,
            "align_self": null,
            "border": null,
            "bottom": null,
            "display": null,
            "flex": null,
            "flex_flow": null,
            "grid_area": null,
            "grid_auto_columns": null,
            "grid_auto_flow": null,
            "grid_auto_rows": null,
            "grid_column": null,
            "grid_gap": null,
            "grid_row": null,
            "grid_template_areas": null,
            "grid_template_columns": null,
            "grid_template_rows": null,
            "height": null,
            "justify_content": null,
            "justify_items": null,
            "left": null,
            "margin": null,
            "max_height": null,
            "max_width": null,
            "min_height": null,
            "min_width": null,
            "object_fit": null,
            "object_position": null,
            "order": null,
            "overflow": null,
            "overflow_x": null,
            "overflow_y": null,
            "padding": null,
            "right": null,
            "top": null,
            "visibility": null,
            "width": null
          }
        },
        "f6068c8ff54e4c01816e2c635d312af3": {
          "model_module": "@jupyter-widgets/controls",
          "model_name": "DescriptionStyleModel",
          "model_module_version": "1.5.0",
          "state": {
            "_model_module": "@jupyter-widgets/controls",
            "_model_module_version": "1.5.0",
            "_model_name": "DescriptionStyleModel",
            "_view_count": null,
            "_view_module": "@jupyter-widgets/base",
            "_view_module_version": "1.2.0",
            "_view_name": "StyleView",
            "description_width": ""
          }
        },
        "ca2821eb672b4ffeaba683aa63c232a3": {
          "model_module": "@jupyter-widgets/controls",
          "model_name": "HBoxModel",
          "model_module_version": "1.5.0",
          "state": {
            "_dom_classes": [],
            "_model_module": "@jupyter-widgets/controls",
            "_model_module_version": "1.5.0",
            "_model_name": "HBoxModel",
            "_view_count": null,
            "_view_module": "@jupyter-widgets/controls",
            "_view_module_version": "1.5.0",
            "_view_name": "HBoxView",
            "box_style": "",
            "children": [
              "IPY_MODEL_470bf50590e14e14970658ea86205840",
              "IPY_MODEL_a7335c8504264b07ae5a4cd212483033",
              "IPY_MODEL_b26f6384d06f49cd9c10075d55647ae8"
            ],
            "layout": "IPY_MODEL_ce656ac93c3b403c9a6839d03764c2a3"
          }
        },
        "470bf50590e14e14970658ea86205840": {
          "model_module": "@jupyter-widgets/controls",
          "model_name": "HTMLModel",
          "model_module_version": "1.5.0",
          "state": {
            "_dom_classes": [],
            "_model_module": "@jupyter-widgets/controls",
            "_model_module_version": "1.5.0",
            "_model_name": "HTMLModel",
            "_view_count": null,
            "_view_module": "@jupyter-widgets/controls",
            "_view_module_version": "1.5.0",
            "_view_name": "HTMLView",
            "description": "",
            "description_tooltip": null,
            "layout": "IPY_MODEL_f6aad0dfd2344764b7270a420350ba11",
            "placeholder": "​",
            "style": "IPY_MODEL_e9098e8f509a467297c21a2cf9c4cc8f",
            "value": "Map: 100%"
          }
        },
        "a7335c8504264b07ae5a4cd212483033": {
          "model_module": "@jupyter-widgets/controls",
          "model_name": "FloatProgressModel",
          "model_module_version": "1.5.0",
          "state": {
            "_dom_classes": [],
            "_model_module": "@jupyter-widgets/controls",
            "_model_module_version": "1.5.0",
            "_model_name": "FloatProgressModel",
            "_view_count": null,
            "_view_module": "@jupyter-widgets/controls",
            "_view_module_version": "1.5.0",
            "_view_name": "ProgressView",
            "bar_style": "success",
            "description": "",
            "description_tooltip": null,
            "layout": "IPY_MODEL_9c9bad2f5b7542dea3c616454cc6c6bb",
            "max": 46,
            "min": 0,
            "orientation": "horizontal",
            "style": "IPY_MODEL_21b796f1fca0443cb0eb225703f68162",
            "value": 46
          }
        },
        "b26f6384d06f49cd9c10075d55647ae8": {
          "model_module": "@jupyter-widgets/controls",
          "model_name": "HTMLModel",
          "model_module_version": "1.5.0",
          "state": {
            "_dom_classes": [],
            "_model_module": "@jupyter-widgets/controls",
            "_model_module_version": "1.5.0",
            "_model_name": "HTMLModel",
            "_view_count": null,
            "_view_module": "@jupyter-widgets/controls",
            "_view_module_version": "1.5.0",
            "_view_name": "HTMLView",
            "description": "",
            "description_tooltip": null,
            "layout": "IPY_MODEL_2ca618c169594f9a9b689ebdcd26f0ea",
            "placeholder": "​",
            "style": "IPY_MODEL_8d39653e16f84dd8aa79a31d2266a98f",
            "value": " 46/46 [00:00&lt;00:00, 1453.28 examples/s]"
          }
        },
        "ce656ac93c3b403c9a6839d03764c2a3": {
          "model_module": "@jupyter-widgets/base",
          "model_name": "LayoutModel",
          "model_module_version": "1.2.0",
          "state": {
            "_model_module": "@jupyter-widgets/base",
            "_model_module_version": "1.2.0",
            "_model_name": "LayoutModel",
            "_view_count": null,
            "_view_module": "@jupyter-widgets/base",
            "_view_module_version": "1.2.0",
            "_view_name": "LayoutView",
            "align_content": null,
            "align_items": null,
            "align_self": null,
            "border": null,
            "bottom": null,
            "display": null,
            "flex": null,
            "flex_flow": null,
            "grid_area": null,
            "grid_auto_columns": null,
            "grid_auto_flow": null,
            "grid_auto_rows": null,
            "grid_column": null,
            "grid_gap": null,
            "grid_row": null,
            "grid_template_areas": null,
            "grid_template_columns": null,
            "grid_template_rows": null,
            "height": null,
            "justify_content": null,
            "justify_items": null,
            "left": null,
            "margin": null,
            "max_height": null,
            "max_width": null,
            "min_height": null,
            "min_width": null,
            "object_fit": null,
            "object_position": null,
            "order": null,
            "overflow": null,
            "overflow_x": null,
            "overflow_y": null,
            "padding": null,
            "right": null,
            "top": null,
            "visibility": null,
            "width": null
          }
        },
        "f6aad0dfd2344764b7270a420350ba11": {
          "model_module": "@jupyter-widgets/base",
          "model_name": "LayoutModel",
          "model_module_version": "1.2.0",
          "state": {
            "_model_module": "@jupyter-widgets/base",
            "_model_module_version": "1.2.0",
            "_model_name": "LayoutModel",
            "_view_count": null,
            "_view_module": "@jupyter-widgets/base",
            "_view_module_version": "1.2.0",
            "_view_name": "LayoutView",
            "align_content": null,
            "align_items": null,
            "align_self": null,
            "border": null,
            "bottom": null,
            "display": null,
            "flex": null,
            "flex_flow": null,
            "grid_area": null,
            "grid_auto_columns": null,
            "grid_auto_flow": null,
            "grid_auto_rows": null,
            "grid_column": null,
            "grid_gap": null,
            "grid_row": null,
            "grid_template_areas": null,
            "grid_template_columns": null,
            "grid_template_rows": null,
            "height": null,
            "justify_content": null,
            "justify_items": null,
            "left": null,
            "margin": null,
            "max_height": null,
            "max_width": null,
            "min_height": null,
            "min_width": null,
            "object_fit": null,
            "object_position": null,
            "order": null,
            "overflow": null,
            "overflow_x": null,
            "overflow_y": null,
            "padding": null,
            "right": null,
            "top": null,
            "visibility": null,
            "width": null
          }
        },
        "e9098e8f509a467297c21a2cf9c4cc8f": {
          "model_module": "@jupyter-widgets/controls",
          "model_name": "DescriptionStyleModel",
          "model_module_version": "1.5.0",
          "state": {
            "_model_module": "@jupyter-widgets/controls",
            "_model_module_version": "1.5.0",
            "_model_name": "DescriptionStyleModel",
            "_view_count": null,
            "_view_module": "@jupyter-widgets/base",
            "_view_module_version": "1.2.0",
            "_view_name": "StyleView",
            "description_width": ""
          }
        },
        "9c9bad2f5b7542dea3c616454cc6c6bb": {
          "model_module": "@jupyter-widgets/base",
          "model_name": "LayoutModel",
          "model_module_version": "1.2.0",
          "state": {
            "_model_module": "@jupyter-widgets/base",
            "_model_module_version": "1.2.0",
            "_model_name": "LayoutModel",
            "_view_count": null,
            "_view_module": "@jupyter-widgets/base",
            "_view_module_version": "1.2.0",
            "_view_name": "LayoutView",
            "align_content": null,
            "align_items": null,
            "align_self": null,
            "border": null,
            "bottom": null,
            "display": null,
            "flex": null,
            "flex_flow": null,
            "grid_area": null,
            "grid_auto_columns": null,
            "grid_auto_flow": null,
            "grid_auto_rows": null,
            "grid_column": null,
            "grid_gap": null,
            "grid_row": null,
            "grid_template_areas": null,
            "grid_template_columns": null,
            "grid_template_rows": null,
            "height": null,
            "justify_content": null,
            "justify_items": null,
            "left": null,
            "margin": null,
            "max_height": null,
            "max_width": null,
            "min_height": null,
            "min_width": null,
            "object_fit": null,
            "object_position": null,
            "order": null,
            "overflow": null,
            "overflow_x": null,
            "overflow_y": null,
            "padding": null,
            "right": null,
            "top": null,
            "visibility": null,
            "width": null
          }
        },
        "21b796f1fca0443cb0eb225703f68162": {
          "model_module": "@jupyter-widgets/controls",
          "model_name": "ProgressStyleModel",
          "model_module_version": "1.5.0",
          "state": {
            "_model_module": "@jupyter-widgets/controls",
            "_model_module_version": "1.5.0",
            "_model_name": "ProgressStyleModel",
            "_view_count": null,
            "_view_module": "@jupyter-widgets/base",
            "_view_module_version": "1.2.0",
            "_view_name": "StyleView",
            "bar_color": null,
            "description_width": ""
          }
        },
        "2ca618c169594f9a9b689ebdcd26f0ea": {
          "model_module": "@jupyter-widgets/base",
          "model_name": "LayoutModel",
          "model_module_version": "1.2.0",
          "state": {
            "_model_module": "@jupyter-widgets/base",
            "_model_module_version": "1.2.0",
            "_model_name": "LayoutModel",
            "_view_count": null,
            "_view_module": "@jupyter-widgets/base",
            "_view_module_version": "1.2.0",
            "_view_name": "LayoutView",
            "align_content": null,
            "align_items": null,
            "align_self": null,
            "border": null,
            "bottom": null,
            "display": null,
            "flex": null,
            "flex_flow": null,
            "grid_area": null,
            "grid_auto_columns": null,
            "grid_auto_flow": null,
            "grid_auto_rows": null,
            "grid_column": null,
            "grid_gap": null,
            "grid_row": null,
            "grid_template_areas": null,
            "grid_template_columns": null,
            "grid_template_rows": null,
            "height": null,
            "justify_content": null,
            "justify_items": null,
            "left": null,
            "margin": null,
            "max_height": null,
            "max_width": null,
            "min_height": null,
            "min_width": null,
            "object_fit": null,
            "object_position": null,
            "order": null,
            "overflow": null,
            "overflow_x": null,
            "overflow_y": null,
            "padding": null,
            "right": null,
            "top": null,
            "visibility": null,
            "width": null
          }
        },
        "8d39653e16f84dd8aa79a31d2266a98f": {
          "model_module": "@jupyter-widgets/controls",
          "model_name": "DescriptionStyleModel",
          "model_module_version": "1.5.0",
          "state": {
            "_model_module": "@jupyter-widgets/controls",
            "_model_module_version": "1.5.0",
            "_model_name": "DescriptionStyleModel",
            "_view_count": null,
            "_view_module": "@jupyter-widgets/base",
            "_view_module_version": "1.2.0",
            "_view_name": "StyleView",
            "description_width": ""
          }
        }
      }
    }
  },
  "nbformat": 4,
  "nbformat_minor": 0
}